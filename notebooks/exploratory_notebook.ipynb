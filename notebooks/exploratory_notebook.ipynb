{
 "cells": [
  {
   "cell_type": "markdown",
   "id": "75c6fedd",
   "metadata": {},
   "source": [
    "# Exploring Events data"
   ]
  },
  {
   "cell_type": "markdown",
   "id": "85701093",
   "metadata": {},
   "source": [
    "### Importing necessary libraries"
   ]
  },
  {
   "cell_type": "code",
   "execution_count": 1,
   "id": "a09eaa91",
   "metadata": {},
   "outputs": [
    {
     "name": "stdout",
     "output_type": "stream",
     "text": [
      "Collecting pandas\n",
      "  Using cached pandas-1.5.0-cp38-cp38-manylinux_2_17_x86_64.manylinux2014_x86_64.whl (12.2 MB)\n",
      "Collecting matplotlib\n",
      "  Using cached matplotlib-3.6.0-cp38-cp38-manylinux_2_12_x86_64.manylinux2010_x86_64.whl (9.4 MB)\n",
      "Collecting seaborn\n",
      "  Using cached seaborn-0.12.0-py3-none-any.whl (285 kB)\n",
      "Collecting pytz>=2020.1\n",
      "  Using cached pytz-2022.2.1-py2.py3-none-any.whl (500 kB)\n",
      "Collecting numpy>=1.20.3\n",
      "  Using cached numpy-1.23.3-cp38-cp38-manylinux_2_17_x86_64.manylinux2014_x86_64.whl (17.1 MB)\n",
      "Requirement already satisfied: python-dateutil>=2.8.1 in /home/gitpod/.pyenv/versions/3.8.13/lib/python3.8/site-packages (from pandas) (2.8.2)\n",
      "Collecting kiwisolver>=1.0.1\n",
      "  Using cached kiwisolver-1.4.4-cp38-cp38-manylinux_2_5_x86_64.manylinux1_x86_64.whl (1.2 MB)\n",
      "Collecting fonttools>=4.22.0\n",
      "  Using cached fonttools-4.37.3-py3-none-any.whl (959 kB)\n",
      "Collecting contourpy>=1.0.1\n",
      "  Using cached contourpy-1.0.5-cp38-cp38-manylinux_2_17_x86_64.manylinux2014_x86_64.whl (295 kB)\n",
      "Requirement already satisfied: pyparsing>=2.2.1 in /home/gitpod/.pyenv/versions/3.8.13/lib/python3.8/site-packages (from matplotlib) (3.0.9)\n",
      "Requirement already satisfied: packaging>=20.0 in /home/gitpod/.pyenv/versions/3.8.13/lib/python3.8/site-packages (from matplotlib) (21.3)\n",
      "Collecting pillow>=6.2.0\n",
      "  Using cached Pillow-9.2.0-cp38-cp38-manylinux_2_28_x86_64.whl (3.2 MB)\n",
      "Collecting cycler>=0.10\n",
      "  Using cached cycler-0.11.0-py3-none-any.whl (6.4 kB)\n",
      "Requirement already satisfied: six>=1.5 in /home/gitpod/.pyenv/versions/3.8.13/lib/python3.8/site-packages (from python-dateutil>=2.8.1->pandas) (1.16.0)\n",
      "Installing collected packages: pytz, pillow, numpy, kiwisolver, fonttools, cycler, pandas, contourpy, matplotlib, seaborn\n",
      "Successfully installed contourpy-1.0.5 cycler-0.11.0 fonttools-4.37.3 kiwisolver-1.4.4 matplotlib-3.6.0 numpy-1.23.3 pandas-1.5.0 pillow-9.2.0 pytz-2022.2.1 seaborn-0.12.0\n",
      "Note: you may need to restart the kernel to use updated packages.\n"
     ]
    }
   ],
   "source": [
    "pip install pandas matplotlib seaborn\n"
   ]
  },
  {
   "cell_type": "code",
   "execution_count": 2,
   "id": "35fcfef8",
   "metadata": {},
   "outputs": [],
   "source": [
    "import pandas as pd\n",
    "import numpy as np\n",
    "import matplotlib.pyplot as plt\n",
    "import seaborn as sns\n",
    "import datetime"
   ]
  },
  {
   "cell_type": "markdown",
   "id": "082e6d18",
   "metadata": {},
   "source": [
    "### Loading the data"
   ]
  },
  {
   "cell_type": "code",
   "execution_count": 3,
   "id": "bcc40632",
   "metadata": {},
   "outputs": [],
   "source": [
    "events = pd.read_csv('../sources/events.csv')\n",
    "registered = pd.read_csv('../sources/registered_in_events.csv')"
   ]
  },
  {
   "cell_type": "markdown",
   "id": "82e1879b",
   "metadata": {},
   "source": [
    "### Exploring"
   ]
  },
  {
   "cell_type": "code",
   "execution_count": 4,
   "id": "35d27e63",
   "metadata": {},
   "outputs": [
    {
     "data": {
      "text/plain": [
       "(177, 31)"
      ]
     },
     "execution_count": 4,
     "metadata": {},
     "output_type": "execute_result"
    }
   ],
   "source": [
    "events.shape"
   ]
  },
  {
   "cell_type": "code",
   "execution_count": 5,
   "id": "2322b95e",
   "metadata": {},
   "outputs": [
    {
     "data": {
      "text/plain": [
       "(4888, 8)"
      ]
     },
     "execution_count": 5,
     "metadata": {},
     "output_type": "execute_result"
    }
   ],
   "source": [
    "registered.shape"
   ]
  },
  {
   "cell_type": "code",
   "execution_count": 6,
   "id": "b62361b2",
   "metadata": {},
   "outputs": [
    {
     "name": "stdout",
     "output_type": "stream",
     "text": [
      "<class 'pandas.core.frame.DataFrame'>\n",
      "RangeIndex: 177 entries, 0 to 176\n",
      "Data columns (total 31 columns):\n",
      " #   Column                       Non-Null Count  Dtype  \n",
      "---  ------                       --------------  -----  \n",
      " 0   id                           177 non-null    int64  \n",
      " 1   description                  175 non-null    object \n",
      " 2   title                        177 non-null    object \n",
      " 3   lang                         71 non-null     object \n",
      " 4   url                          177 non-null    object \n",
      " 5   banner                       174 non-null    object \n",
      " 6   capacity                     177 non-null    int64  \n",
      " 7   starting_at                  177 non-null    object \n",
      " 8   ending_at                    177 non-null    object \n",
      " 9   status                       177 non-null    object \n",
      " 10  created_at                   177 non-null    object \n",
      " 11  updated_at                   177 non-null    object \n",
      " 12  author_id                    0 non-null      float64\n",
      " 13  event_type_id                71 non-null     float64\n",
      " 14  host                         59 non-null     object \n",
      " 15  venue_id                     0 non-null      float64\n",
      " 16  excerpt                      175 non-null    object \n",
      " 17  academy_id                   163 non-null    float64\n",
      " 18  eventbrite_id                177 non-null    int64  \n",
      " 19  eventbrite_organizer_id      0 non-null      float64\n",
      " 20  eventbrite_status            177 non-null    object \n",
      " 21  eventbrite_url               177 non-null    object \n",
      " 22  organization_id              177 non-null    int64  \n",
      " 23  published_at                 174 non-null    object \n",
      " 24  eventbrite_sync_description  177 non-null    object \n",
      " 25  eventbrite_sync_status       177 non-null    object \n",
      " 26  online_event                 177 non-null    bool   \n",
      " 27  sync_with_eventbrite         177 non-null    bool   \n",
      " 28  currency                     177 non-null    object \n",
      " 29  slug                         69 non-null     object \n",
      " 30  tags                         69 non-null     object \n",
      "dtypes: bool(2), float64(5), int64(4), object(20)\n",
      "memory usage: 40.6+ KB\n"
     ]
    }
   ],
   "source": [
    "events.info()"
   ]
  },
  {
   "cell_type": "code",
   "execution_count": 7,
   "id": "ae8f0bc0",
   "metadata": {},
   "outputs": [
    {
     "name": "stdout",
     "output_type": "stream",
     "text": [
      "<class 'pandas.core.frame.DataFrame'>\n",
      "RangeIndex: 4888 entries, 0 to 4887\n",
      "Data columns (total 8 columns):\n",
      " #   Column       Non-Null Count  Dtype  \n",
      "---  ------       --------------  -----  \n",
      " 0   id           4888 non-null   int64  \n",
      " 1   email        4888 non-null   object \n",
      " 2   created_at   4888 non-null   object \n",
      " 3   updated_at   4888 non-null   object \n",
      " 4   attendee_id  1058 non-null   float64\n",
      " 5   event_id     4888 non-null   int64  \n",
      " 6   status       4888 non-null   object \n",
      " 7   attended_at  0 non-null      float64\n",
      "dtypes: float64(2), int64(2), object(4)\n",
      "memory usage: 305.6+ KB\n"
     ]
    }
   ],
   "source": [
    "registered.info()"
   ]
  },
  {
   "cell_type": "markdown",
   "id": "d75041b0",
   "metadata": {},
   "source": []
  },
  {
   "cell_type": "code",
   "execution_count": 8,
   "id": "09cdd8a6",
   "metadata": {},
   "outputs": [
    {
     "data": {
      "text/html": [
       "<div>\n",
       "<style scoped>\n",
       "    .dataframe tbody tr th:only-of-type {\n",
       "        vertical-align: middle;\n",
       "    }\n",
       "\n",
       "    .dataframe tbody tr th {\n",
       "        vertical-align: top;\n",
       "    }\n",
       "\n",
       "    .dataframe thead th {\n",
       "        text-align: right;\n",
       "    }\n",
       "</style>\n",
       "<table border=\"1\" class=\"dataframe\">\n",
       "  <thead>\n",
       "    <tr style=\"text-align: right;\">\n",
       "      <th></th>\n",
       "      <th>id</th>\n",
       "      <th>description</th>\n",
       "      <th>title</th>\n",
       "      <th>lang</th>\n",
       "      <th>url</th>\n",
       "      <th>banner</th>\n",
       "      <th>capacity</th>\n",
       "      <th>starting_at</th>\n",
       "      <th>ending_at</th>\n",
       "      <th>status</th>\n",
       "      <th>...</th>\n",
       "      <th>eventbrite_url</th>\n",
       "      <th>organization_id</th>\n",
       "      <th>published_at</th>\n",
       "      <th>eventbrite_sync_description</th>\n",
       "      <th>eventbrite_sync_status</th>\n",
       "      <th>online_event</th>\n",
       "      <th>sync_with_eventbrite</th>\n",
       "      <th>currency</th>\n",
       "      <th>slug</th>\n",
       "      <th>tags</th>\n",
       "    </tr>\n",
       "  </thead>\n",
       "  <tbody>\n",
       "    <tr>\n",
       "      <th>1</th>\n",
       "      <td>35</td>\n",
       "      <td>¡Ven y crea el producto que enamore al cliente!</td>\n",
       "      <td>Crea un producto que enamore</td>\n",
       "      <td>NaN</td>\n",
       "      <td>https://www.eventbrite.com/e/crea-un-producto-...</td>\n",
       "      <td>https://img.evbuc.com/https%3A%2F%2Fcdn.evbuc....</td>\n",
       "      <td>100</td>\n",
       "      <td>2020-10-14 16:30:00+00:00</td>\n",
       "      <td>2020-10-14 17:30:00+00:00</td>\n",
       "      <td>ACTIVE</td>\n",
       "      <td>...</td>\n",
       "      <td>https://www.eventbrite.com/e/crea-un-producto-...</td>\n",
       "      <td>4</td>\n",
       "      <td>2020-09-23 18:55:47+00:00</td>\n",
       "      <td>2020-10-14 07:30:36.116768+00:00</td>\n",
       "      <td>PERSISTED</td>\n",
       "      <td>True</td>\n",
       "      <td>False</td>\n",
       "      <td>USD</td>\n",
       "      <td>NaN</td>\n",
       "      <td>NaN</td>\n",
       "    </tr>\n",
       "    <tr>\n",
       "      <th>2</th>\n",
       "      <td>36</td>\n",
       "      <td>¡Lo han logrado! Nuestros estudiantes presenta...</td>\n",
       "      <td>GeekTALKS: Presentación de proyectos finales</td>\n",
       "      <td>NaN</td>\n",
       "      <td>https://www.eventbrite.com/e/geektalks-present...</td>\n",
       "      <td>https://img.evbuc.com/https%3A%2F%2Fcdn.evbuc....</td>\n",
       "      <td>200</td>\n",
       "      <td>2020-10-16 19:00:00+00:00</td>\n",
       "      <td>2020-10-16 21:00:00+00:00</td>\n",
       "      <td>ACTIVE</td>\n",
       "      <td>...</td>\n",
       "      <td>https://www.eventbrite.com/e/geektalks-present...</td>\n",
       "      <td>4</td>\n",
       "      <td>2020-09-22 18:36:58+00:00</td>\n",
       "      <td>2020-10-16 07:30:52.632913+00:00</td>\n",
       "      <td>PERSISTED</td>\n",
       "      <td>True</td>\n",
       "      <td>False</td>\n",
       "      <td>USD</td>\n",
       "      <td>NaN</td>\n",
       "      <td>NaN</td>\n",
       "    </tr>\n",
       "    <tr>\n",
       "      <th>9</th>\n",
       "      <td>37</td>\n",
       "      <td>Preséntale al mundo un currrículum que logre u...</td>\n",
       "      <td>Cómo crear tu currículum con HTML y CSS</td>\n",
       "      <td>NaN</td>\n",
       "      <td>https://www.eventbrite.com/e/como-crear-tu-cur...</td>\n",
       "      <td>https://img.evbuc.com/https%3A%2F%2Fcdn.evbuc....</td>\n",
       "      <td>200</td>\n",
       "      <td>2020-10-22 19:00:00+00:00</td>\n",
       "      <td>2020-10-22 20:00:00+00:00</td>\n",
       "      <td>ACTIVE</td>\n",
       "      <td>...</td>\n",
       "      <td>https://www.eventbrite.com/e/como-crear-tu-cur...</td>\n",
       "      <td>4</td>\n",
       "      <td>2020-10-07 22:12:40+00:00</td>\n",
       "      <td>2020-10-22 07:30:34.764812+00:00</td>\n",
       "      <td>PERSISTED</td>\n",
       "      <td>True</td>\n",
       "      <td>False</td>\n",
       "      <td>USD</td>\n",
       "      <td>NaN</td>\n",
       "      <td>NaN</td>\n",
       "    </tr>\n",
       "  </tbody>\n",
       "</table>\n",
       "<p>3 rows × 31 columns</p>\n",
       "</div>"
      ],
      "text/plain": [
       "   id                                        description  \\\n",
       "1  35   ¡Ven y crea el producto que enamore al cliente!    \n",
       "2  36  ¡Lo han logrado! Nuestros estudiantes presenta...   \n",
       "9  37  Preséntale al mundo un currrículum que logre u...   \n",
       "\n",
       "                                          title lang  \\\n",
       "1                  Crea un producto que enamore  NaN   \n",
       "2  GeekTALKS: Presentación de proyectos finales  NaN   \n",
       "9       Cómo crear tu currículum con HTML y CSS  NaN   \n",
       "\n",
       "                                                 url  \\\n",
       "1  https://www.eventbrite.com/e/crea-un-producto-...   \n",
       "2  https://www.eventbrite.com/e/geektalks-present...   \n",
       "9  https://www.eventbrite.com/e/como-crear-tu-cur...   \n",
       "\n",
       "                                              banner  capacity  \\\n",
       "1  https://img.evbuc.com/https%3A%2F%2Fcdn.evbuc....       100   \n",
       "2  https://img.evbuc.com/https%3A%2F%2Fcdn.evbuc....       200   \n",
       "9  https://img.evbuc.com/https%3A%2F%2Fcdn.evbuc....       200   \n",
       "\n",
       "                 starting_at                  ending_at  status  ...  \\\n",
       "1  2020-10-14 16:30:00+00:00  2020-10-14 17:30:00+00:00  ACTIVE  ...   \n",
       "2  2020-10-16 19:00:00+00:00  2020-10-16 21:00:00+00:00  ACTIVE  ...   \n",
       "9  2020-10-22 19:00:00+00:00  2020-10-22 20:00:00+00:00  ACTIVE  ...   \n",
       "\n",
       "                                      eventbrite_url organization_id  \\\n",
       "1  https://www.eventbrite.com/e/crea-un-producto-...               4   \n",
       "2  https://www.eventbrite.com/e/geektalks-present...               4   \n",
       "9  https://www.eventbrite.com/e/como-crear-tu-cur...               4   \n",
       "\n",
       "                published_at       eventbrite_sync_description  \\\n",
       "1  2020-09-23 18:55:47+00:00  2020-10-14 07:30:36.116768+00:00   \n",
       "2  2020-09-22 18:36:58+00:00  2020-10-16 07:30:52.632913+00:00   \n",
       "9  2020-10-07 22:12:40+00:00  2020-10-22 07:30:34.764812+00:00   \n",
       "\n",
       "  eventbrite_sync_status  online_event sync_with_eventbrite  currency  slug  \\\n",
       "1              PERSISTED          True                False       USD   NaN   \n",
       "2              PERSISTED          True                False       USD   NaN   \n",
       "9              PERSISTED          True                False       USD   NaN   \n",
       "\n",
       "   tags  \n",
       "1   NaN  \n",
       "2   NaN  \n",
       "9   NaN  \n",
       "\n",
       "[3 rows x 31 columns]"
      ]
     },
     "execution_count": 8,
     "metadata": {},
     "output_type": "execute_result"
    }
   ],
   "source": [
    "events.sort_values(['created_at']).head(3)"
   ]
  },
  {
   "cell_type": "markdown",
   "id": "df13b47c",
   "metadata": {},
   "source": [
    "We can see that the 'tags' column has started to be filled since April 2022."
   ]
  },
  {
   "cell_type": "code",
   "execution_count": 9,
   "id": "a1bc3f04",
   "metadata": {},
   "outputs": [],
   "source": [
    "#Let's create 2 functions to check the categories in categorical features\n",
    "\n",
    "def countplot_features(df, feature):\n",
    "    fig = plt.figure(figsize=(10,6))\n",
    "    ax = sns.countplot(x=df[feature], order=df[feature].value_counts(ascending=False).index);\n",
    "\n",
    "    abs_values = df[feature].value_counts(ascending=False).values\n",
    "    ax.bar_label(container=ax.containers[0], labels=abs_values)\n",
    "    plt.xticks(rotation=30, ha='right')\n",
    "    #plt.show()"
   ]
  },
  {
   "cell_type": "code",
   "execution_count": 10,
   "id": "6d1d7b07",
   "metadata": {},
   "outputs": [
    {
     "data": {
      "image/png": "[encoded data removed]",
      "text/plain": [
       "<Figure size 1000x600 with 1 Axes>"
      ]
     },
     "metadata": {},
     "output_type": "display_data"
    }
   ],
   "source": [
    "countplot_features(events,'status')"
   ]
  },
  {
   "cell_type": "code",
   "execution_count": 11,
   "id": "ea4ce6b6",
   "metadata": {},
   "outputs": [
    {
     "data": {
      "image/png": "[encoded data removed]",
      "text/plain": [
       "<Figure size 1000x600 with 1 Axes>"
      ]
     },
     "metadata": {},
     "output_type": "display_data"
    }
   ],
   "source": [
    "countplot_features(events,'academy_id')"
   ]
  },
  {
   "cell_type": "code",
   "execution_count": 12,
   "metadata": {},
   "outputs": [
    {
     "data": {
      "image/png": "[encoded data removed]",
      "text/plain": [
       "<Figure size 1000x600 with 1 Axes>"
      ]
     },
     "metadata": {},
     "output_type": "display_data"
    }
   ],
   "source": [
    "countplot_features(events,'organization_id')"
   ]
  },
  {
   "cell_type": "markdown",
   "id": "ae725047",
   "metadata": {},
   "source": [
    "**Dropping columns**"
   ]
  },
  {
   "cell_type": "code",
   "execution_count": 13,
   "id": "b62c5c9b",
   "metadata": {},
   "outputs": [],
   "source": [
    "#Useless columns\n",
    "\n",
    "TO_DROP_EVENTS = ['created_at','updated_at','organization_id']\n",
    "\n",
    "TO_DROP_REGISTERED = ['id', 'created_at','updated_at','status']\n",
    "\n",
    "#Drop useless columns in registered_in_events\n",
    "\n",
    "registered.drop(TO_DROP_REGISTERED, axis=1, inplace=True)"
   ]
  },
  {
   "cell_type": "code",
   "execution_count": 14,
   "id": "4fe05a22",
   "metadata": {},
   "outputs": [],
   "source": [
    "#Drop useless columns in events\n",
    "\n",
    "events.drop(TO_DROP_EVENTS, axis=1, inplace=True)"
   ]
  },
  {
   "cell_type": "code",
   "execution_count": 15,
   "id": "9672e93b",
   "metadata": {},
   "outputs": [],
   "source": [
    "#Drop null columns in events\n",
    "events.dropna(axis=1, how='all', inplace=True)"
   ]
  },
  {
   "cell_type": "code",
   "execution_count": 16,
   "id": "d476ced9",
   "metadata": {},
   "outputs": [],
   "source": [
    "#Drop null columns in registered\n",
    "registered.dropna(axis=1, how='all', inplace=True)"
   ]
  },
  {
   "cell_type": "code",
   "execution_count": 17,
   "id": "1dfae381",
   "metadata": {},
   "outputs": [],
   "source": [
    "#Drop rows with test emails used for registration\n",
    "registered = registered[registered[\"email\"].str.contains(\"@4geeks\") == False]"
   ]
  },
  {
   "cell_type": "code",
   "execution_count": 18,
   "id": "9bc57a1e",
   "metadata": {},
   "outputs": [
    {
     "data": {
      "text/plain": [
       "(4870, 3)"
      ]
     },
     "execution_count": 18,
     "metadata": {},
     "output_type": "execute_result"
    }
   ],
   "source": [
    "registered.shape"
   ]
  },
  {
   "cell_type": "code",
   "execution_count": 19,
   "id": "0b04fe51",
   "metadata": {},
   "outputs": [
    {
     "data": {
      "text/plain": [
       "(177, 25)"
      ]
     },
     "execution_count": 19,
     "metadata": {},
     "output_type": "execute_result"
    }
   ],
   "source": [
    "events.shape"
   ]
  },
  {
   "cell_type": "markdown",
   "id": "de910443",
   "metadata": {},
   "source": [
    "**Verifying amount of duplicates**"
   ]
  },
  {
   "cell_type": "code",
   "execution_count": 20,
   "id": "d2fee9a4",
   "metadata": {},
   "outputs": [
    {
     "data": {
      "text/plain": [
       "False    177\n",
       "Name: id, dtype: int64"
      ]
     },
     "execution_count": 20,
     "metadata": {},
     "output_type": "execute_result"
    }
   ],
   "source": [
    "#See how many duplicated events\n",
    "pd.options.display.max_rows = None\n",
    "events['id'].duplicated().value_counts()"
   ]
  },
  {
   "cell_type": "code",
   "execution_count": 21,
   "id": "091efaca",
   "metadata": {},
   "outputs": [
    {
     "data": {
      "text/plain": [
       "False    3741\n",
       "True     1129\n",
       "Name: email, dtype: int64"
      ]
     },
     "execution_count": 21,
     "metadata": {},
     "output_type": "execute_result"
    }
   ],
   "source": [
    "#See how many duplicated emails in registered people\n",
    "pd.options.display.max_rows = None\n",
    "registered['email'].duplicated().value_counts()"
   ]
  },
  {
   "cell_type": "markdown",
   "id": "6bb5bfd8",
   "metadata": {},
   "source": [
    "There are no duplicated events and there are 1129 duplicated emails in registered people, so they have gone to several events. Should NOT be eliminated. "
   ]
  },
  {
   "cell_type": "markdown",
   "id": "2bf4b074",
   "metadata": {},
   "source": [
    "**Join datasets**"
   ]
  },
  {
   "cell_type": "code",
   "execution_count": 31,
   "id": "a5b9a942",
   "metadata": {},
   "outputs": [
    {
     "data": {
      "text/plain": [
       "(4870, 27)"
      ]
     },
     "execution_count": 31,
     "metadata": {},
     "output_type": "execute_result"
    }
   ],
   "source": [
    "inner_merged = pd.merge(registered, events, left_on=\"event_id\", right_on=\"id\").drop('id', axis=1)\n",
    "inner_merged.shape"
   ]
  },
  {
   "cell_type": "markdown",
   "id": "702a8844",
   "metadata": {},
   "source": [
    "**1. Events with more and less attendies and what tags do they have**"
   ]
  },
  {
   "cell_type": "code",
   "execution_count": null,
   "id": "5668d140",
   "metadata": {},
   "outputs": [],
   "source": [
    "#popular = inner_merged.sort_values(['job','count'],ascending=False).groupby('job').head(3)"
   ]
  },
  {
   "cell_type": "code",
   "execution_count": null,
   "id": "c2f06c75",
   "metadata": {},
   "outputs": [],
   "source": [
    "#popular2 = inner_merged.groupby(['event_id']).agg({'email':sum})"
   ]
  },
  {
   "cell_type": "code",
   "execution_count": 66,
   "id": "9efe160e",
   "metadata": {},
   "outputs": [
    {
     "data": {
      "text/plain": [
       "event_id\n",
       "142    439\n",
       "187    174\n",
       "413    112\n",
       "430    110\n",
       "213    107\n",
       "258     93\n",
       "412     82\n",
       "364     79\n",
       "423     75\n",
       "272     72\n",
       "405     72\n",
       "418     71\n",
       "321     69\n",
       "359     68\n",
       "135     67\n",
       "478     66\n",
       "268     65\n",
       "218     64\n",
       "182     60\n",
       "189     60\n",
       "Name: email, dtype: int64"
      ]
     },
     "execution_count": 66,
     "metadata": {},
     "output_type": "execute_result"
    }
   ],
   "source": [
    "#top 20 events with more attendies\n",
    "inner_merged.groupby(['event_id'])['email'].count().sort_values(ascending=False).head(20)"
   ]
  },
  {
   "cell_type": "code",
   "execution_count": 63,
   "id": "55ebb262",
   "metadata": {},
   "outputs": [
    {
     "data": {
      "text/plain": [
       "event_id\n",
       "483    1\n",
       "350    1\n",
       "207    1\n",
       "217    1\n",
       "259    1\n",
       "368    1\n",
       "474    2\n",
       "482    2\n",
       "417    3\n",
       "339    3\n",
       "435    4\n",
       "472    4\n",
       "473    4\n",
       "201    4\n",
       "481    4\n",
       "366    4\n",
       "202    5\n",
       "420    5\n",
       "469    5\n",
       "367    6\n",
       "Name: email, dtype: int64"
      ]
     },
     "execution_count": 63,
     "metadata": {},
     "output_type": "execute_result"
    }
   ],
   "source": [
    "#top 20 events with less attendies\n",
    "inner_merged.groupby(['event_id'])['email'].count().sort_values(ascending=True).head(20)"
   ]
  },
  {
   "cell_type": "markdown",
   "id": "9910ccc0",
   "metadata": {},
   "source": [
    "**2. Tags with more attendies**"
   ]
  },
  {
   "cell_type": "markdown",
   "id": "f350e227",
   "metadata": {},
   "source": [
    "**3. Academy with more attendies, what events and what tags**"
   ]
  },
  {
   "cell_type": "markdown",
   "id": "d6119f2c",
   "metadata": {},
   "source": [
    "**4. Events with attendies that bought after the event (won_at date is after the event date)**"
   ]
  },
  {
   "cell_type": "markdown",
   "id": "66e58e7a",
   "metadata": {},
   "source": [
    "**5. Where do attendies come from, by tag and academy_id."
   ]
  }
 ],
 "metadata": {
  "kernelspec": {
   "display_name": "Python 3.8.13 64-bit ('3.8.13')",
   "language": "python",
   "name": "python3"
  },
  "language_info": {
   "codemirror_mode": {
    "name": "ipython",
    "version": 3
   },
   "file_extension": ".py",
   "mimetype": "text/x-python",
   "name": "python",
   "nbconvert_exporter": "python",
   "pygments_lexer": "ipython3",
   "version": "3.8.13"
  },
  "vscode": {
   "interpreter": {
    "hash": "110cc1dee26208153f2972f08a2ad52b6a56238dc66d48e87fb757ef2996db56"
   }
  }
 },
 "nbformat": 4,
 "nbformat_minor": 5
}
