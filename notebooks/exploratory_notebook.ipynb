{
 "cells": [
  {
   "cell_type": "markdown",
   "id": "75c6fedd",
   "metadata": {},
   "source": [
    "# Exploring Events data"
   ]
  },
  {
   "cell_type": "markdown",
   "id": "85701093",
   "metadata": {},
   "source": [
    "### Importing necessary libraries"
   ]
  },
  {
   "cell_type": "code",
   "execution_count": 5,
   "id": "a09eaa91",
   "metadata": {},
   "outputs": [
    {
     "name": "stdout",
     "output_type": "stream",
     "text": [
      "Requirement already satisfied: pandas in /workspace/.pyenv_mirror/user/current/lib/python3.8/site-packages (1.5.0)\n",
      "Requirement already satisfied: pytz>=2020.1 in /workspace/.pyenv_mirror/user/current/lib/python3.8/site-packages (from pandas) (2022.2.1)\n",
      "Requirement already satisfied: python-dateutil>=2.8.1 in /home/gitpod/.pyenv/versions/3.8.13/lib/python3.8/site-packages (from pandas) (2.8.2)\n",
      "Requirement already satisfied: numpy>=1.20.3 in /workspace/.pyenv_mirror/user/current/lib/python3.8/site-packages (from pandas) (1.23.3)\n",
      "Requirement already satisfied: six>=1.5 in /home/gitpod/.pyenv/versions/3.8.13/lib/python3.8/site-packages (from python-dateutil>=2.8.1->pandas) (1.16.0)\n",
      "Note: you may need to restart the kernel to use updated packages.\n"
     ]
    }
   ],
   "source": [
    "pip install pandas"
   ]
  },
  {
   "cell_type": "code",
   "execution_count": 1,
   "id": "35fcfef8",
   "metadata": {},
   "outputs": [],
   "source": [
    "import pandas as pd\n",
    "import numpy as np\n",
    "import matplotlib.pyplot as plt\n",
    "import seaborn as sns\n",
    "import datetime"
   ]
  },
  {
   "cell_type": "markdown",
   "id": "082e6d18",
   "metadata": {},
   "source": [
    "### Loading the data"
   ]
  },
  {
   "cell_type": "code",
   "execution_count": 2,
   "id": "bcc40632",
   "metadata": {},
   "outputs": [],
   "source": [
    "events = pd.read_csv('../sources/events.csv')\n",
    "registrados = pd.read_csv('../sources/registrados_en_eventos.csv')"
   ]
  },
  {
   "cell_type": "code",
   "execution_count": 4,
   "id": "1b6c6303",
   "metadata": {},
   "outputs": [
    {
     "data": {
      "text/html": [
       "<div>\n",
       "<style scoped>\n",
       "    .dataframe tbody tr th:only-of-type {\n",
       "        vertical-align: middle;\n",
       "    }\n",
       "\n",
       "    .dataframe tbody tr th {\n",
       "        vertical-align: top;\n",
       "    }\n",
       "\n",
       "    .dataframe thead th {\n",
       "        text-align: right;\n",
       "    }\n",
       "</style>\n",
       "<table border=\"1\" class=\"dataframe\">\n",
       "  <thead>\n",
       "    <tr style=\"text-align: right;\">\n",
       "      <th></th>\n",
       "      <th>id</th>\n",
       "      <th>description</th>\n",
       "      <th>title</th>\n",
       "      <th>lang</th>\n",
       "      <th>url</th>\n",
       "      <th>banner</th>\n",
       "      <th>capacity</th>\n",
       "      <th>starting_at</th>\n",
       "      <th>ending_at</th>\n",
       "      <th>status</th>\n",
       "      <th>...</th>\n",
       "      <th>eventbrite_url</th>\n",
       "      <th>organization_id</th>\n",
       "      <th>published_at</th>\n",
       "      <th>eventbrite_sync_description</th>\n",
       "      <th>eventbrite_sync_status</th>\n",
       "      <th>online_event</th>\n",
       "      <th>sync_with_eventbrite</th>\n",
       "      <th>currency</th>\n",
       "      <th>slug</th>\n",
       "      <th>tags</th>\n",
       "    </tr>\n",
       "  </thead>\n",
       "  <tbody>\n",
       "    <tr>\n",
       "      <th>0</th>\n",
       "      <td>362</td>\n",
       "      <td>¿Te gusta la programación web?</td>\n",
       "      <td>Introducción al código Latam</td>\n",
       "      <td>es</td>\n",
       "      <td>https://www.eventbrite.com/e/introduccion-al-c...</td>\n",
       "      <td>https://img.evbuc.com/https%3A%2F%2Fcdn.evbuc....</td>\n",
       "      <td>100</td>\n",
       "      <td>2022-05-18 18:30:00+00:00</td>\n",
       "      <td>2022-05-18 19:30:00+00:00</td>\n",
       "      <td>COMPLETED</td>\n",
       "      <td>...</td>\n",
       "      <td>https://www.eventbrite.com/e/introduccion-al-c...</td>\n",
       "      <td>4</td>\n",
       "      <td>2022-04-28 02:20:54+00:00</td>\n",
       "      <td>2022-05-19 04:31:27.544426+00:00</td>\n",
       "      <td>PERSISTED</td>\n",
       "      <td>True</td>\n",
       "      <td>True</td>\n",
       "      <td>USD</td>\n",
       "      <td>introduccion-al-codigo-latam</td>\n",
       "      <td>fs-event-attendee,openhouse-attendee</td>\n",
       "    </tr>\n",
       "    <tr>\n",
       "      <th>1</th>\n",
       "      <td>35</td>\n",
       "      <td>¡Ven y crea el producto que enamore al cliente!</td>\n",
       "      <td>Crea un producto que enamore</td>\n",
       "      <td>NaN</td>\n",
       "      <td>https://www.eventbrite.com/e/crea-un-producto-...</td>\n",
       "      <td>https://img.evbuc.com/https%3A%2F%2Fcdn.evbuc....</td>\n",
       "      <td>100</td>\n",
       "      <td>2020-10-14 16:30:00+00:00</td>\n",
       "      <td>2020-10-14 17:30:00+00:00</td>\n",
       "      <td>ACTIVE</td>\n",
       "      <td>...</td>\n",
       "      <td>https://www.eventbrite.com/e/crea-un-producto-...</td>\n",
       "      <td>4</td>\n",
       "      <td>2020-09-23 18:55:47+00:00</td>\n",
       "      <td>2020-10-14 07:30:36.116768+00:00</td>\n",
       "      <td>PERSISTED</td>\n",
       "      <td>True</td>\n",
       "      <td>False</td>\n",
       "      <td>USD</td>\n",
       "      <td>NaN</td>\n",
       "      <td>NaN</td>\n",
       "    </tr>\n",
       "    <tr>\n",
       "      <th>2</th>\n",
       "      <td>36</td>\n",
       "      <td>¡Lo han logrado! Nuestros estudiantes presenta...</td>\n",
       "      <td>GeekTALKS: Presentación de proyectos finales</td>\n",
       "      <td>NaN</td>\n",
       "      <td>https://www.eventbrite.com/e/geektalks-present...</td>\n",
       "      <td>https://img.evbuc.com/https%3A%2F%2Fcdn.evbuc....</td>\n",
       "      <td>200</td>\n",
       "      <td>2020-10-16 19:00:00+00:00</td>\n",
       "      <td>2020-10-16 21:00:00+00:00</td>\n",
       "      <td>ACTIVE</td>\n",
       "      <td>...</td>\n",
       "      <td>https://www.eventbrite.com/e/geektalks-present...</td>\n",
       "      <td>4</td>\n",
       "      <td>2020-09-22 18:36:58+00:00</td>\n",
       "      <td>2020-10-16 07:30:52.632913+00:00</td>\n",
       "      <td>PERSISTED</td>\n",
       "      <td>True</td>\n",
       "      <td>False</td>\n",
       "      <td>USD</td>\n",
       "      <td>NaN</td>\n",
       "      <td>NaN</td>\n",
       "    </tr>\n",
       "    <tr>\n",
       "      <th>3</th>\n",
       "      <td>39</td>\n",
       "      <td>Get to know the newest Software Developers in ...</td>\n",
       "      <td>Final Project Presentation: Pitch Day</td>\n",
       "      <td>NaN</td>\n",
       "      <td>https://www.eventbrite.com/e/final-project-pre...</td>\n",
       "      <td>https://img.evbuc.com/https%3A%2F%2Fcdn.evbuc....</td>\n",
       "      <td>100</td>\n",
       "      <td>2020-10-23 22:00:00+00:00</td>\n",
       "      <td>2020-10-23 23:30:00+00:00</td>\n",
       "      <td>ACTIVE</td>\n",
       "      <td>...</td>\n",
       "      <td>https://www.eventbrite.com/e/final-project-pre...</td>\n",
       "      <td>4</td>\n",
       "      <td>2020-10-08 14:48:49+00:00</td>\n",
       "      <td>2020-10-23 07:30:28.992661+00:00</td>\n",
       "      <td>PERSISTED</td>\n",
       "      <td>True</td>\n",
       "      <td>False</td>\n",
       "      <td>USD</td>\n",
       "      <td>NaN</td>\n",
       "      <td>NaN</td>\n",
       "    </tr>\n",
       "    <tr>\n",
       "      <th>4</th>\n",
       "      <td>40</td>\n",
       "      <td>prueba</td>\n",
       "      <td>como cuidar tu salud mental y productividad tr...</td>\n",
       "      <td>NaN</td>\n",
       "      <td>https://www.eventbrite.com/e/como-cuidar-tu-sa...</td>\n",
       "      <td>NaN</td>\n",
       "      <td>100</td>\n",
       "      <td>2020-10-15 23:00:00+00:00</td>\n",
       "      <td>2020-10-16 00:00:00+00:00</td>\n",
       "      <td>ACTIVE</td>\n",
       "      <td>...</td>\n",
       "      <td>https://www.eventbrite.com/e/como-cuidar-tu-sa...</td>\n",
       "      <td>4</td>\n",
       "      <td>2020-10-14 17:07:44+00:00</td>\n",
       "      <td>2020-10-15 07:30:54.382183+00:00</td>\n",
       "      <td>PERSISTED</td>\n",
       "      <td>True</td>\n",
       "      <td>False</td>\n",
       "      <td>USD</td>\n",
       "      <td>NaN</td>\n",
       "      <td>NaN</td>\n",
       "    </tr>\n",
       "  </tbody>\n",
       "</table>\n",
       "<p>5 rows × 31 columns</p>\n",
       "</div>"
      ],
      "text/plain": [
       "    id                                        description  \\\n",
       "0  362                     ¿Te gusta la programación web?   \n",
       "1   35   ¡Ven y crea el producto que enamore al cliente!    \n",
       "2   36  ¡Lo han logrado! Nuestros estudiantes presenta...   \n",
       "3   39  Get to know the newest Software Developers in ...   \n",
       "4   40                                             prueba   \n",
       "\n",
       "                                               title lang  \\\n",
       "0                       Introducción al código Latam   es   \n",
       "1                       Crea un producto que enamore  NaN   \n",
       "2       GeekTALKS: Presentación de proyectos finales  NaN   \n",
       "3              Final Project Presentation: Pitch Day  NaN   \n",
       "4  como cuidar tu salud mental y productividad tr...  NaN   \n",
       "\n",
       "                                                 url  \\\n",
       "0  https://www.eventbrite.com/e/introduccion-al-c...   \n",
       "1  https://www.eventbrite.com/e/crea-un-producto-...   \n",
       "2  https://www.eventbrite.com/e/geektalks-present...   \n",
       "3  https://www.eventbrite.com/e/final-project-pre...   \n",
       "4  https://www.eventbrite.com/e/como-cuidar-tu-sa...   \n",
       "\n",
       "                                              banner  capacity  \\\n",
       "0  https://img.evbuc.com/https%3A%2F%2Fcdn.evbuc....       100   \n",
       "1  https://img.evbuc.com/https%3A%2F%2Fcdn.evbuc....       100   \n",
       "2  https://img.evbuc.com/https%3A%2F%2Fcdn.evbuc....       200   \n",
       "3  https://img.evbuc.com/https%3A%2F%2Fcdn.evbuc....       100   \n",
       "4                                                NaN       100   \n",
       "\n",
       "                 starting_at                  ending_at     status  ...  \\\n",
       "0  2022-05-18 18:30:00+00:00  2022-05-18 19:30:00+00:00  COMPLETED  ...   \n",
       "1  2020-10-14 16:30:00+00:00  2020-10-14 17:30:00+00:00     ACTIVE  ...   \n",
       "2  2020-10-16 19:00:00+00:00  2020-10-16 21:00:00+00:00     ACTIVE  ...   \n",
       "3  2020-10-23 22:00:00+00:00  2020-10-23 23:30:00+00:00     ACTIVE  ...   \n",
       "4  2020-10-15 23:00:00+00:00  2020-10-16 00:00:00+00:00     ACTIVE  ...   \n",
       "\n",
       "                                      eventbrite_url organization_id  \\\n",
       "0  https://www.eventbrite.com/e/introduccion-al-c...               4   \n",
       "1  https://www.eventbrite.com/e/crea-un-producto-...               4   \n",
       "2  https://www.eventbrite.com/e/geektalks-present...               4   \n",
       "3  https://www.eventbrite.com/e/final-project-pre...               4   \n",
       "4  https://www.eventbrite.com/e/como-cuidar-tu-sa...               4   \n",
       "\n",
       "                published_at       eventbrite_sync_description  \\\n",
       "0  2022-04-28 02:20:54+00:00  2022-05-19 04:31:27.544426+00:00   \n",
       "1  2020-09-23 18:55:47+00:00  2020-10-14 07:30:36.116768+00:00   \n",
       "2  2020-09-22 18:36:58+00:00  2020-10-16 07:30:52.632913+00:00   \n",
       "3  2020-10-08 14:48:49+00:00  2020-10-23 07:30:28.992661+00:00   \n",
       "4  2020-10-14 17:07:44+00:00  2020-10-15 07:30:54.382183+00:00   \n",
       "\n",
       "  eventbrite_sync_status  online_event sync_with_eventbrite  currency  \\\n",
       "0              PERSISTED          True                 True       USD   \n",
       "1              PERSISTED          True                False       USD   \n",
       "2              PERSISTED          True                False       USD   \n",
       "3              PERSISTED          True                False       USD   \n",
       "4              PERSISTED          True                False       USD   \n",
       "\n",
       "                           slug                                  tags  \n",
       "0  introduccion-al-codigo-latam  fs-event-attendee,openhouse-attendee  \n",
       "1                           NaN                                   NaN  \n",
       "2                           NaN                                   NaN  \n",
       "3                           NaN                                   NaN  \n",
       "4                           NaN                                   NaN  \n",
       "\n",
       "[5 rows x 31 columns]"
      ]
     },
     "execution_count": 4,
     "metadata": {},
     "output_type": "execute_result"
    }
   ],
   "source": [
    "events.head()"
   ]
  },
  {
   "cell_type": "code",
   "execution_count": 5,
   "id": "35d27e63",
   "metadata": {},
   "outputs": [
    {
     "data": {
      "text/plain": [
       "(177, 31)"
      ]
     },
     "execution_count": 5,
     "metadata": {},
     "output_type": "execute_result"
    }
   ],
   "source": [
    "events.shape"
   ]
  },
  {
   "cell_type": "code",
   "execution_count": 6,
   "id": "b62361b2",
   "metadata": {},
   "outputs": [
    {
     "name": "stdout",
     "output_type": "stream",
     "text": [
      "<class 'pandas.core.frame.DataFrame'>\n",
      "RangeIndex: 177 entries, 0 to 176\n",
      "Data columns (total 31 columns):\n",
      " #   Column                       Non-Null Count  Dtype  \n",
      "---  ------                       --------------  -----  \n",
      " 0   id                           177 non-null    int64  \n",
      " 1   description                  175 non-null    object \n",
      " 2   title                        177 non-null    object \n",
      " 3   lang                         71 non-null     object \n",
      " 4   url                          177 non-null    object \n",
      " 5   banner                       174 non-null    object \n",
      " 6   capacity                     177 non-null    int64  \n",
      " 7   starting_at                  177 non-null    object \n",
      " 8   ending_at                    177 non-null    object \n",
      " 9   status                       177 non-null    object \n",
      " 10  created_at                   177 non-null    object \n",
      " 11  updated_at                   177 non-null    object \n",
      " 12  author_id                    0 non-null      float64\n",
      " 13  event_type_id                71 non-null     float64\n",
      " 14  host                         59 non-null     object \n",
      " 15  venue_id                     0 non-null      float64\n",
      " 16  excerpt                      175 non-null    object \n",
      " 17  academy_id                   163 non-null    float64\n",
      " 18  eventbrite_id                177 non-null    int64  \n",
      " 19  eventbrite_organizer_id      0 non-null      float64\n",
      " 20  eventbrite_status            177 non-null    object \n",
      " 21  eventbrite_url               177 non-null    object \n",
      " 22  organization_id              177 non-null    int64  \n",
      " 23  published_at                 174 non-null    object \n",
      " 24  eventbrite_sync_description  177 non-null    object \n",
      " 25  eventbrite_sync_status       177 non-null    object \n",
      " 26  online_event                 177 non-null    bool   \n",
      " 27  sync_with_eventbrite         177 non-null    bool   \n",
      " 28  currency                     177 non-null    object \n",
      " 29  slug                         69 non-null     object \n",
      " 30  tags                         69 non-null     object \n",
      "dtypes: bool(2), float64(5), int64(4), object(20)\n",
      "memory usage: 40.6+ KB\n"
     ]
    }
   ],
   "source": [
    "events.info()"
   ]
  },
  {
   "cell_type": "markdown",
   "id": "5038bde8",
   "metadata": {},
   "source": [
    "## Exploratory Data Analysis"
   ]
  },
  {
   "cell_type": "code",
   "execution_count": 8,
   "id": "2d4d959d",
   "metadata": {},
   "outputs": [],
   "source": [
    "#Let's create 2 functions to check the categories in categorical features\n",
    "\n",
    "def countplot_features(df, feature):\n",
    "    fig = plt.figure(figsize=(10,6))\n",
    "    ax = sns.countplot(x=df[feature], order=df[feature].value_counts(ascending=False).index);\n",
    "\n",
    "    abs_values = df[feature].value_counts(ascending=False).values\n",
    "    ax.bar_label(container=ax.containers[0], labels=abs_values)\n",
    "    plt.xticks(rotation=30, ha='right')\n",
    "    #plt.show()"
   ]
  },
  {
   "cell_type": "code",
   "execution_count": null,
   "id": "bdba3f65",
   "metadata": {},
   "outputs": [],
   "source": [
    "countplot_features(events,'course')"
   ]
  },
  {
   "cell_type": "code",
   "execution_count": null,
   "id": "bbc83453",
   "metadata": {},
   "outputs": [],
   "source": [
    "df[feature].value_counts()"
   ]
  }
 ],
 "metadata": {
  "kernelspec": {
   "display_name": "Python 3.8.13 64-bit ('shims')",
   "language": "python",
   "name": "python3"
  },
  "language_info": {
   "codemirror_mode": {
    "name": "ipython",
    "version": 3
   },
   "file_extension": ".py",
   "mimetype": "text/x-python",
   "name": "python",
   "nbconvert_exporter": "python",
   "pygments_lexer": "ipython3",
   "version": "3.8.13"
  },
  "vscode": {
   "interpreter": {
    "hash": "9ac03a0a6051494cc606d484d27d20fce22fb7b4d169f583271e11d5ba46a56e"
   }
  }
 },
 "nbformat": 4,
 "nbformat_minor": 5
}
