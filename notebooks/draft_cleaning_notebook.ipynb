{
 "cells": [
  {
   "cell_type": "markdown",
   "id": "75c6fedd",
   "metadata": {},
   "source": [
    "# Cleaning Events data"
   ]
  },
  {
   "cell_type": "markdown",
   "id": "85701093",
   "metadata": {},
   "source": [
    "### Importing necessary libraries"
   ]
  },
  {
   "cell_type": "code",
   "execution_count": 1,
   "id": "ce727954",
   "metadata": {},
   "outputs": [
    {
     "name": "stdout",
     "output_type": "stream",
     "text": [
      "Requirement already satisfied: pandas in /home/gitpod/.pyenv/versions/3.8.13/lib/python3.8/site-packages (1.5.0)\n",
      "Requirement already satisfied: matplotlib in /home/gitpod/.pyenv/versions/3.8.13/lib/python3.8/site-packages (3.6.1)\n",
      "Requirement already satisfied: seaborn in /home/gitpod/.pyenv/versions/3.8.13/lib/python3.8/site-packages (0.12.0)\n",
      "Requirement already satisfied: wordcloud in /home/gitpod/.pyenv/versions/3.8.13/lib/python3.8/site-packages (1.8.2.2)\n",
      "Requirement already satisfied: python-dateutil>=2.8.1 in /home/gitpod/.pyenv/versions/3.8.13/lib/python3.8/site-packages (from pandas) (2.8.2)\n",
      "Requirement already satisfied: pytz>=2020.1 in /home/gitpod/.pyenv/versions/3.8.13/lib/python3.8/site-packages (from pandas) (2022.4)\n",
      "Requirement already satisfied: numpy>=1.20.3 in /home/gitpod/.pyenv/versions/3.8.13/lib/python3.8/site-packages (from pandas) (1.23.4)\n",
      "Requirement already satisfied: pyparsing>=2.2.1 in /home/gitpod/.pyenv/versions/3.8.13/lib/python3.8/site-packages (from matplotlib) (3.0.9)\n",
      "Requirement already satisfied: kiwisolver>=1.0.1 in /home/gitpod/.pyenv/versions/3.8.13/lib/python3.8/site-packages (from matplotlib) (1.4.4)\n",
      "Requirement already satisfied: fonttools>=4.22.0 in /home/gitpod/.pyenv/versions/3.8.13/lib/python3.8/site-packages (from matplotlib) (4.37.4)\n",
      "Requirement already satisfied: packaging>=20.0 in /home/gitpod/.pyenv/versions/3.8.13/lib/python3.8/site-packages (from matplotlib) (21.3)\n",
      "Requirement already satisfied: contourpy>=1.0.1 in /home/gitpod/.pyenv/versions/3.8.13/lib/python3.8/site-packages (from matplotlib) (1.0.5)\n",
      "Requirement already satisfied: pillow>=6.2.0 in /home/gitpod/.pyenv/versions/3.8.13/lib/python3.8/site-packages (from matplotlib) (9.2.0)\n",
      "Requirement already satisfied: cycler>=0.10 in /home/gitpod/.pyenv/versions/3.8.13/lib/python3.8/site-packages (from matplotlib) (0.11.0)\n",
      "Requirement already satisfied: six>=1.5 in /home/gitpod/.pyenv/versions/3.8.13/lib/python3.8/site-packages (from python-dateutil>=2.8.1->pandas) (1.16.0)\n",
      "Note: you may need to restart the kernel to use updated packages.\n"
     ]
    }
   ],
   "source": [
    "pip install pandas matplotlib seaborn wordcloud"
   ]
  },
  {
   "cell_type": "code",
   "execution_count": 2,
   "id": "35fcfef8",
   "metadata": {},
   "outputs": [],
   "source": [
    "import pandas as pd\n",
    "import numpy as np\n",
    "import matplotlib.pyplot as plt\n",
    "import seaborn as sns\n",
    "import datetime"
   ]
  },
  {
   "cell_type": "markdown",
   "id": "082e6d18",
   "metadata": {},
   "source": [
    "### Loading the data"
   ]
  },
  {
   "cell_type": "code",
   "execution_count": 3,
   "id": "bcc40632",
   "metadata": {},
   "outputs": [],
   "source": [
    "events = pd.read_csv('../sources/events.csv')\n",
    "registered = pd.read_csv('../sources/registrados_en_eventos.csv')"
   ]
  },
  {
   "cell_type": "markdown",
   "id": "15b8f817",
   "metadata": {},
   "source": [
    "## Data Cleaning"
   ]
  },
  {
   "cell_type": "markdown",
   "id": "133a5634",
   "metadata": {},
   "source": [
    "**Cleaning registered_in_events**"
   ]
  },
  {
   "cell_type": "code",
   "execution_count": 5,
   "id": "5bc94f0d",
   "metadata": {},
   "outputs": [],
   "source": [
    "TO_DROP_REGISTERED = ['id', 'created_at','updated_at','status']\n",
    "\n",
    "#Drop useless columns in registered_in_events\n",
    "\n",
    "registered.drop(TO_DROP_REGISTERED, axis=1, inplace=True)"
   ]
  },
  {
   "cell_type": "markdown",
   "id": "7c9b3a9a",
   "metadata": {},
   "source": [
    "**Cleaning events**"
   ]
  },
  {
   "cell_type": "code",
   "execution_count": 4,
   "id": "f209f6f4",
   "metadata": {},
   "outputs": [],
   "source": [
    "#Useless columns\n",
    "\n",
    "TO_DROP_EVENTS = ['created_at','updated_at','organization_id']\n",
    "\n",
    "#Drop useless columns in events\n",
    "\n",
    "events.drop(TO_DROP_EVENTS, axis=1, inplace=True)\n",
    "\n",
    "#Drop null columns in events\n",
    "events.dropna(axis=1, how='all', inplace=True)\n",
    "\n"
   ]
  },
  {
   "cell_type": "markdown",
   "id": "3f4e9e9c",
   "metadata": {},
   "source": [
    "**Joining both datasets**"
   ]
  },
  {
   "cell_type": "code",
   "execution_count": 6,
   "id": "c2d486bc",
   "metadata": {},
   "outputs": [
    {
     "data": {
      "text/plain": [
       "(5285, 23)"
      ]
     },
     "execution_count": 6,
     "metadata": {},
     "output_type": "execute_result"
    }
   ],
   "source": [
    "merged = pd.merge(registered, events, left_on=\"event_id\", right_on=\"id\").drop(['id','excerpt','eventbrite_sync_description','eventbrite_url','eventbrite_id','banner'], axis=1)\n",
    "merged.shape"
   ]
  },
  {
   "cell_type": "markdown",
   "id": "d9fd66a4",
   "metadata": {},
   "source": [
    "**Cleaning merged dataframe**"
   ]
  },
  {
   "cell_type": "code",
   "execution_count": 7,
   "id": "c23d3312",
   "metadata": {},
   "outputs": [],
   "source": [
    "merged['starting_at'] = merged['starting_at'].apply(pd.to_datetime)\n",
    "merged['ending_at'] = merged['ending_at'].apply(pd.to_datetime)\n",
    "merged['published_at'] = merged['published_at'].apply(pd.to_datetime)\n",
    "\n",
    "#Changing format\n",
    "merged['starting_at'] = merged['starting_at'].dt.strftime('%Y-%m-%d %H:%M:%S')\n",
    "merged['ending_at'] = merged['ending_at'].dt.strftime('%Y-%m-%d %H:%M:%S')\n",
    "merged['published_at'] = merged['published_at'].dt.strftime('%Y-%m-%d %H:%M:%S')\n",
    "\n",
    "#Format change also changed the column type to object, so we need to convert it to datetime again \n",
    "merged['starting_at'] = merged['starting_at'].apply(pd.to_datetime)\n",
    "merged['ending_at'] = merged['ending_at'].apply(pd.to_datetime)\n",
    "merged['published_at'] = merged['published_at'].apply(pd.to_datetime)"
   ]
  },
  {
   "cell_type": "code",
   "execution_count": 8,
   "id": "c076961a",
   "metadata": {},
   "outputs": [],
   "source": [
    "#Replacing commas in certain columns\n",
    "\n",
    "merged['tags'] = merged['tags'].str.replace(',', '|')\n",
    "merged['description'] = merged['description'].str.replace(',', ' ')\n",
    "merged['title'] = merged['title'].str.replace(',', ' ')\n",
    "\n",
    "#Replacing nulls with 'undefined'\n",
    "\n",
    "merged = merged.replace(np.nan, 'Undefined', regex=True)"
   ]
  },
  {
   "cell_type": "code",
   "execution_count": 9,
   "id": "4dd6e414",
   "metadata": {},
   "outputs": [],
   "source": [
    "#Assign language to events with missing info.\n",
    "\n",
    "merged['lang'] = np.where((merged['event_id'].isin([35,36,38,40,414,37,130,123,41,122,141,42,146,125,145,46,48,47,49,131,\n",
    "                                                    127,85,86,84,121,128,119,181,189,184,135,134,136,182,192,193,137,138,\n",
    "                                                    139,186,195,198,217,196,213,203,212,205,204,209,211,218,262,339,268,\n",
    "                                                    260,263,142,183,140,432,261,363,264,344,340,308,316])),'es', merged['lang'])\n",
    "\n",
    "merged['lang'] = np.where((merged['event_id'].isin([39,43,187,45,44,190,144,50,51,126,180,191,132,129,120,185,188,197,200,\n",
    "                                                    194,199,201,202,206,216,208,252,214,251,254,368,357,124,207,210,215])),'en', \n",
    "                                                    merged['lang'])"
   ]
  },
  {
   "cell_type": "code",
   "execution_count": 11,
   "id": "ded88919",
   "metadata": {},
   "outputs": [],
   "source": [
    "#create a event tags dataframe to explode tags\n",
    "\n",
    "tags_df = merged.groupby(['event_id','title','tags'])['tags'].agg(['count']).reset_index()"
   ]
  },
  {
   "cell_type": "code",
   "execution_count": 12,
   "id": "1e08aba7",
   "metadata": {},
   "outputs": [
    {
     "data": {
      "text/plain": [
       "(156, 4)"
      ]
     },
     "execution_count": 12,
     "metadata": {},
     "output_type": "execute_result"
    }
   ],
   "source": [
    "tags_df.rename(columns = {'count':'event_registrants'}, inplace = True)\n",
    "tags_df.shape"
   ]
  },
  {
   "cell_type": "code",
   "execution_count": 13,
   "id": "d19f4463",
   "metadata": {},
   "outputs": [],
   "source": [
    "#converting tags column in lowercase and then in a list instead of string\n",
    "\n",
    "tags_df['tags'] = tags_df['tags'].str.lower()\n",
    "\n",
    "tags_df['tags'] = tags_df.tags.apply(lambda x: x.split('|'))"
   ]
  },
  {
   "cell_type": "code",
   "execution_count": 14,
   "id": "f673fe7f",
   "metadata": {},
   "outputs": [],
   "source": [
    "#Exploding the list to rows\n",
    "\n",
    "tags_df = tags_df.explode('tags').drop_duplicates()"
   ]
  },
  {
   "cell_type": "code",
   "execution_count": 15,
   "id": "f1174207",
   "metadata": {},
   "outputs": [
    {
     "data": {
      "image/png": "[encoded data removed]",
      "text/plain": [
       "<Figure size 1000x1000 with 1 Axes>"
      ]
     },
     "metadata": {},
     "output_type": "display_data"
    }
   ],
   "source": [
    "#Creating a word cloud\n",
    "\n",
    "import matplotlib.pyplot as plt\n",
    "from wordcloud import WordCloud\n",
    "\n",
    "\n",
    "df_wc = tags_df[(tags_df['tags'] =='tech-machinelearning')]\n",
    "\n",
    "df_wc = df_wc[['title','event_registrants']]\n",
    "df_wc = df_wc.set_index('title').to_dict()['event_registrants']\n",
    "\n",
    "wc = WordCloud(width=800, height=400, max_words=200,).generate_from_frequencies(df_wc)\n",
    "plt.figure(figsize=(10, 10))\n",
    "plt.imshow(wc, interpolation='bilinear')\n",
    "plt.axis('off')\n",
    "plt.show()"
   ]
  },
  {
   "cell_type": "code",
   "execution_count": null,
   "id": "8558181f",
   "metadata": {},
   "outputs": [
    {
     "data": {
      "text/plain": [
       "'\\ntag_dict = {}\\n\\nfor row in df3:\\n    for tag in row[\\'tags\\'].split(\" \"):\\n        if tag not in tag_dict:\\n            tag_dict[tag] = int(row[\\'attendies\\'])\\n        else:\\n            tag_dict[tag] += int(row[\\'attendies\\'])\\n'"
      ]
     },
     "execution_count": 15,
     "metadata": {},
     "output_type": "execute_result"
    }
   ],
   "source": [
    "'''\n",
    "tag_dict = {}\n",
    "\n",
    "for row in df3:\n",
    "    for tag in row['tags'].split(\"|\"):\n",
    "        if tag not in tag_dict:\n",
    "            tag_dict[tag] = int(row['attendies'])\n",
    "        else:\n",
    "            tag_dict[tag] += int(row['attendies'])\n",
    "'''"
   ]
  },
  {
   "cell_type": "code",
   "execution_count": 16,
   "id": "40beae85",
   "metadata": {},
   "outputs": [],
   "source": [
    "#Saving joined dataset\n",
    "\n",
    "merged.to_csv('../output/events_and_registrants.csv')\n",
    "tags_df.to_csv('../output/tags_df.csv')"
   ]
  },
  {
   "cell_type": "markdown",
   "id": "50e1b001",
   "metadata": {},
   "source": [
    "**When joining with form_entries**"
   ]
  },
  {
   "cell_type": "code",
   "execution_count": 17,
   "id": "b5560ede",
   "metadata": {},
   "outputs": [],
   "source": [
    "forms = pd.read_csv('../sources/clean.csv')"
   ]
  },
  {
   "cell_type": "code",
   "execution_count": 18,
   "id": "cdda89fd",
   "metadata": {},
   "outputs": [
    {
     "data": {
      "text/plain": [
       "(5285, 26)"
      ]
     },
     "execution_count": 18,
     "metadata": {},
     "output_type": "execute_result"
    }
   ],
   "source": [
    "final_df = pd.merge(merged, forms[['email','country','deal_status','won_at']],on='email', how='left')\n",
    "final_df.shape"
   ]
  },
  {
   "cell_type": "code",
   "execution_count": 32,
   "id": "84ecf05b",
   "metadata": {},
   "outputs": [],
   "source": [
    "final_df[['starting_at','won_at']] = final_df[['starting_at','won_at']].apply(pd.to_datetime)"
   ]
  },
  {
   "cell_type": "code",
   "execution_count": 41,
   "id": "c7257b12",
   "metadata": {},
   "outputs": [],
   "source": [
    "final_df['days_until_deal'] = (final_df['won_at'] - final_df['starting_at']).dt.days\n"
   ]
  },
  {
   "cell_type": "code",
   "execution_count": 42,
   "id": "fecda9be",
   "metadata": {},
   "outputs": [
    {
     "data": {
      "text/html": [
       "<div>\n",
       "<style scoped>\n",
       "    .dataframe tbody tr th:only-of-type {\n",
       "        vertical-align: middle;\n",
       "    }\n",
       "\n",
       "    .dataframe tbody tr th {\n",
       "        vertical-align: top;\n",
       "    }\n",
       "\n",
       "    .dataframe thead th {\n",
       "        text-align: right;\n",
       "    }\n",
       "</style>\n",
       "<table border=\"1\" class=\"dataframe\">\n",
       "  <thead>\n",
       "    <tr style=\"text-align: right;\">\n",
       "      <th></th>\n",
       "      <th>email</th>\n",
       "      <th>deal_status</th>\n",
       "      <th>starting_at</th>\n",
       "      <th>won_at</th>\n",
       "      <th>days_until_deal</th>\n",
       "    </tr>\n",
       "  </thead>\n",
       "  <tbody>\n",
       "    <tr>\n",
       "      <th>3162</th>\n",
       "      <td>johndyhami45@gmail.com</td>\n",
       "      <td>WON</td>\n",
       "      <td>2022-04-19 22:00:00</td>\n",
       "      <td>2022-04-20 21:01:49</td>\n",
       "      <td>0.0</td>\n",
       "    </tr>\n",
       "    <tr>\n",
       "      <th>2183</th>\n",
       "      <td>jerajbe@gmail.com</td>\n",
       "      <td>WON</td>\n",
       "      <td>2021-12-09 20:00:00</td>\n",
       "      <td>2021-12-10 18:58:31</td>\n",
       "      <td>0.0</td>\n",
       "    </tr>\n",
       "    <tr>\n",
       "      <th>2328</th>\n",
       "      <td>abrahamjferrer@gmail.com</td>\n",
       "      <td>WON</td>\n",
       "      <td>2022-01-13 20:30:00</td>\n",
       "      <td>2022-01-14 21:28:08</td>\n",
       "      <td>1.0</td>\n",
       "    </tr>\n",
       "    <tr>\n",
       "      <th>2836</th>\n",
       "      <td>angela.patarroyo@hotmail.com</td>\n",
       "      <td>WON</td>\n",
       "      <td>2022-03-16 17:30:00</td>\n",
       "      <td>2022-03-18 16:58:01</td>\n",
       "      <td>1.0</td>\n",
       "    </tr>\n",
       "    <tr>\n",
       "      <th>4423</th>\n",
       "      <td>zekyotumlu@hotmail.com</td>\n",
       "      <td>WON</td>\n",
       "      <td>2022-08-10 22:00:00</td>\n",
       "      <td>2022-08-11 23:52:45</td>\n",
       "      <td>1.0</td>\n",
       "    </tr>\n",
       "    <tr>\n",
       "      <th>...</th>\n",
       "      <td>...</td>\n",
       "      <td>...</td>\n",
       "      <td>...</td>\n",
       "      <td>...</td>\n",
       "      <td>...</td>\n",
       "    </tr>\n",
       "    <tr>\n",
       "      <th>41</th>\n",
       "      <td>eddicsonh@gmail.com</td>\n",
       "      <td>WON</td>\n",
       "      <td>2021-02-26 20:00:00</td>\n",
       "      <td>2022-08-24 14:46:14</td>\n",
       "      <td>543.0</td>\n",
       "    </tr>\n",
       "    <tr>\n",
       "      <th>34</th>\n",
       "      <td>salazarandradejesus@gmail.com</td>\n",
       "      <td>WON</td>\n",
       "      <td>2021-02-26 20:00:00</td>\n",
       "      <td>2022-08-24 14:46:11</td>\n",
       "      <td>543.0</td>\n",
       "    </tr>\n",
       "    <tr>\n",
       "      <th>115</th>\n",
       "      <td>eleanablandin@gmail.com</td>\n",
       "      <td>WON</td>\n",
       "      <td>2021-02-19 19:00:00</td>\n",
       "      <td>2022-08-24 14:47:18</td>\n",
       "      <td>550.0</td>\n",
       "    </tr>\n",
       "    <tr>\n",
       "      <th>98</th>\n",
       "      <td>andreasgamardo@gmail.com</td>\n",
       "      <td>WON</td>\n",
       "      <td>2021-02-19 19:00:00</td>\n",
       "      <td>2022-08-24 14:46:25</td>\n",
       "      <td>550.0</td>\n",
       "    </tr>\n",
       "    <tr>\n",
       "      <th>77</th>\n",
       "      <td>videzere@gmail.com</td>\n",
       "      <td>WON</td>\n",
       "      <td>2021-02-19 19:00:00</td>\n",
       "      <td>2022-08-24 14:46:23</td>\n",
       "      <td>550.0</td>\n",
       "    </tr>\n",
       "  </tbody>\n",
       "</table>\n",
       "<p>196 rows × 5 columns</p>\n",
       "</div>"
      ],
      "text/plain": [
       "                              email deal_status         starting_at  \\\n",
       "3162         johndyhami45@gmail.com         WON 2022-04-19 22:00:00   \n",
       "2183              jerajbe@gmail.com         WON 2021-12-09 20:00:00   \n",
       "2328       abrahamjferrer@gmail.com         WON 2022-01-13 20:30:00   \n",
       "2836   angela.patarroyo@hotmail.com         WON 2022-03-16 17:30:00   \n",
       "4423         zekyotumlu@hotmail.com         WON 2022-08-10 22:00:00   \n",
       "...                             ...         ...                 ...   \n",
       "41              eddicsonh@gmail.com         WON 2021-02-26 20:00:00   \n",
       "34    salazarandradejesus@gmail.com         WON 2021-02-26 20:00:00   \n",
       "115         eleanablandin@gmail.com         WON 2021-02-19 19:00:00   \n",
       "98         andreasgamardo@gmail.com         WON 2021-02-19 19:00:00   \n",
       "77               videzere@gmail.com         WON 2021-02-19 19:00:00   \n",
       "\n",
       "                  won_at  days_until_deal  \n",
       "3162 2022-04-20 21:01:49              0.0  \n",
       "2183 2021-12-10 18:58:31              0.0  \n",
       "2328 2022-01-14 21:28:08              1.0  \n",
       "2836 2022-03-18 16:58:01              1.0  \n",
       "4423 2022-08-11 23:52:45              1.0  \n",
       "...                  ...              ...  \n",
       "41   2022-08-24 14:46:14            543.0  \n",
       "34   2022-08-24 14:46:11            543.0  \n",
       "115  2022-08-24 14:47:18            550.0  \n",
       "98   2022-08-24 14:46:25            550.0  \n",
       "77   2022-08-24 14:46:23            550.0  \n",
       "\n",
       "[196 rows x 5 columns]"
      ]
     },
     "execution_count": 42,
     "metadata": {},
     "output_type": "execute_result"
    }
   ],
   "source": [
    "final_df[final_df['won_at'] > final_df['starting_at']][['email','deal_status','starting_at','won_at','days_until_deal']].sort_values('days_until_deal')"
   ]
  }
 ],
 "metadata": {
  "kernelspec": {
   "display_name": "Python 3.8.13 64-bit ('shims')",
   "language": "python",
   "name": "python3"
  },
  "language_info": {
   "codemirror_mode": {
    "name": "ipython",
    "version": 3
   },
   "file_extension": ".py",
   "mimetype": "text/x-python",
   "name": "python",
   "nbconvert_exporter": "python",
   "pygments_lexer": "ipython3",
   "version": "3.8.13 (default, Oct  4 2022, 14:00:32) \n[GCC 9.4.0]"
  },
  "vscode": {
   "interpreter": {
    "hash": "9ac03a0a6051494cc606d484d27d20fce22fb7b4d169f583271e11d5ba46a56e"
   }
  }
 },
 "nbformat": 4,
 "nbformat_minor": 5
}
