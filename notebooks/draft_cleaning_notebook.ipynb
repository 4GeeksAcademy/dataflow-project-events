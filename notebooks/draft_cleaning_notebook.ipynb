{
 "cells": [
  {
   "cell_type": "markdown",
   "id": "75c6fedd",
   "metadata": {},
   "source": [
    "# Cleaning Events data"
   ]
  },
  {
   "cell_type": "markdown",
   "id": "85701093",
   "metadata": {},
   "source": [
    "### Importing necessary libraries"
   ]
  },
  {
   "cell_type": "code",
   "execution_count": 1,
   "id": "ce727954",
   "metadata": {},
   "outputs": [
    {
     "name": "stdout",
     "output_type": "stream",
     "text": [
      "Collecting pandas\n",
      "  Downloading pandas-1.5.1-cp38-cp38-manylinux_2_17_x86_64.manylinux2014_x86_64.whl (12.2 MB)\r\n",
      "\u001b[?25l     \u001b[90m━━━━━━━━━━━━━━━━━━━━━━━━━━━━━━━━━━━━━━━━\u001b[0m \u001b[32m0.0/12.2 MB\u001b[0m \u001b[31m?\u001b[0m eta \u001b[36m-:--:--\u001b[0m\r\u001b[2K     \u001b[91m━━━\u001b[0m\u001b[90m╺\u001b[0m\u001b[90m━━━━━━━━━━━━━━━━━━━━━━━━━━━━━━━━━━━━\u001b[0m \u001b[32m1.0/12.2 MB\u001b[0m \u001b[31m28.6 MB/s\u001b[0m eta \u001b[36m0:00:01\u001b[0m\r\u001b[2K     \u001b[91m━━━━━━━━━━━━━━━━━━━━━━━━━━\u001b[0m\u001b[90m╺\u001b[0m\u001b[90m━━━━━━━━━━━━━\u001b[0m \u001b[32m8.0/12.2 MB\u001b[0m \u001b[31m113.6 MB/s\u001b[0m eta \u001b[36m0:00:01\u001b[0m\r\u001b[2K     \u001b[91m━━━━━━━━━━━━━━━━━━━━━━━━━━━━━━━━━━━━━━\u001b[0m\u001b[91m╸\u001b[0m \u001b[32m12.2/12.2 MB\u001b[0m \u001b[31m203.1 MB/s\u001b[0m eta \u001b[36m0:00:01\u001b[0m\r\u001b[2K     \u001b[90m━━━━━━━━━━━━━━━━━━━━━━━━━━━━━━━━━━━━━━━\u001b[0m \u001b[32m12.2/12.2 MB\u001b[0m \u001b[31m100.1 MB/s\u001b[0m eta \u001b[36m0:00:00\u001b[0m\r\n",
      "\u001b[?25hCollecting matplotlib\r\n",
      "  Downloading matplotlib-3.6.1-cp38-cp38-manylinux_2_12_x86_64.manylinux2010_x86_64.whl (9.4 MB)\r\n",
      "\u001b[?25l     \u001b[90m━━━━━━━━━━━━━━━━━━━━━━━━━━━━━━━━━━━━━━━━\u001b[0m \u001b[32m0.0/9.4 MB\u001b[0m \u001b[31m?\u001b[0m eta \u001b[36m-:--:--\u001b[0m\r\u001b[2K     \u001b[91m━━━━━━━━━━━━━━━━━━━━━━━━━━━━━━━━━\u001b[0m\u001b[90m╺\u001b[0m\u001b[90m━━━━━━\u001b[0m \u001b[32m7.7/9.4 MB\u001b[0m \u001b[31m232.2 MB/s\u001b[0m eta \u001b[36m0:00:01\u001b[0m\r\u001b[2K     \u001b[91m━━━━━━━━━━━━━━━━━━━━━━━━━━━━━━━━━━━━━━━\u001b[0m\u001b[91m╸\u001b[0m \u001b[32m9.3/9.4 MB\u001b[0m \u001b[31m224.0 MB/s\u001b[0m eta \u001b[36m0:00:01\u001b[0m\r\u001b[2K     \u001b[90m━━━━━━━━━━━━━━━━━━━━━━━━━━━━━━━━━━━━━━━━\u001b[0m \u001b[32m9.4/9.4 MB\u001b[0m \u001b[31m127.0 MB/s\u001b[0m eta \u001b[36m0:00:00\u001b[0m\r\n",
      "\u001b[?25hCollecting seaborn\r\n",
      "  Downloading seaborn-0.12.1-py3-none-any.whl (288 kB)\r\n",
      "\u001b[?25l     \u001b[90m━━━━━━━━━━━━━━━━━━━━━━━━━━━━━━━━━━━━━━━━\u001b[0m \u001b[32m0.0/288.2 kB\u001b[0m \u001b[31m?\u001b[0m eta \u001b[36m-:--:--\u001b[0m\r\u001b[2K     \u001b[90m━━━━━━━━━━━━━━━━━━━━━━━━━━━━━━━━━━━━━━\u001b[0m \u001b[32m288.2/288.2 kB\u001b[0m \u001b[31m18.9 MB/s\u001b[0m eta \u001b[36m0:00:00\u001b[0m\r\n",
      "\u001b[?25hCollecting wordcloud\r\n",
      "  Downloading wordcloud-1.8.2.2-cp38-cp38-manylinux_2_17_x86_64.manylinux2014_x86_64.whl (458 kB)\r\n",
      "\u001b[?25l     \u001b[90m━━━━━━━━━━━━━━━━━━━━━━━━━━━━━━━━━━━━━━━━\u001b[0m \u001b[32m0.0/459.0 kB\u001b[0m \u001b[31m?\u001b[0m eta \u001b[36m-:--:--\u001b[0m\r\u001b[2K     \u001b[90m━━━━━━━━━━━━━━━━━━━━━━━━━━━━━━━━━━━━━━\u001b[0m \u001b[32m459.0/459.0 kB\u001b[0m \u001b[31m24.9 MB/s\u001b[0m eta \u001b[36m0:00:00\u001b[0m\r\n",
      "\u001b[?25hCollecting numpy>=1.20.3\r\n",
      "  Downloading numpy-1.23.4-cp38-cp38-manylinux_2_17_x86_64.manylinux2014_x86_64.whl (17.1 MB)\r\n",
      "\u001b[?25l     \u001b[90m━━━━━━━━━━━━━━━━━━━━━━━━━━━━━━━━━━━━━━━━\u001b[0m \u001b[32m0.0/17.1 MB\u001b[0m \u001b[31m?\u001b[0m eta \u001b[36m-:--:--\u001b[0m\r\u001b[2K     \u001b[91m━━━━━━━━━━━━━━━━━\u001b[0m\u001b[91m╸\u001b[0m\u001b[90m━━━━━━━━━━━━━━━━━━━━━━\u001b[0m \u001b[32m7.6/17.1 MB\u001b[0m \u001b[31m228.0 MB/s\u001b[0m eta \u001b[36m0:00:01\u001b[0m\r\u001b[2K     \u001b[91m━━━━━━━━━━━━━━━━━━━━━━━━━━━━━━━━━━━\u001b[0m\u001b[90m╺\u001b[0m\u001b[90m━━━\u001b[0m \u001b[32m15.5/17.1 MB\u001b[0m \u001b[31m220.1 MB/s\u001b[0m eta \u001b[36m0:00:01\u001b[0m\r\u001b[2K     \u001b[91m━━━━━━━━━━━━━━━━━━━━━━━━━━━━━━━━━━━━━━\u001b[0m\u001b[91m╸\u001b[0m \u001b[32m17.1/17.1 MB\u001b[0m \u001b[31m213.6 MB/s\u001b[0m eta \u001b[36m0:00:01\u001b[0m\r\u001b[2K     \u001b[90m━━━━━━━━━━━━━━━━━━━━━━━━━━━━━━━━━━━━━━━\u001b[0m \u001b[32m17.1/17.1 MB\u001b[0m \u001b[31m103.9 MB/s\u001b[0m eta \u001b[36m0:00:00\u001b[0m\r\n",
      "\u001b[?25hCollecting pytz>=2020.1\r\n",
      "  Downloading pytz-2022.6-py2.py3-none-any.whl (498 kB)\r\n",
      "\u001b[?25l     \u001b[90m━━━━━━━━━━━━━━━━━━━━━━━━━━━━━━━━━━━━━━━━\u001b[0m \u001b[32m0.0/498.1 kB\u001b[0m \u001b[31m?\u001b[0m eta \u001b[36m-:--:--\u001b[0m\r\u001b[2K     \u001b[90m━━━━━━━━━━━━━━━━━━━━━━━━━━━━━━━━━━━━━━\u001b[0m \u001b[32m498.1/498.1 kB\u001b[0m \u001b[31m26.4 MB/s\u001b[0m eta \u001b[36m0:00:00\u001b[0m\r\n",
      "\u001b[?25hRequirement already satisfied: python-dateutil>=2.8.1 in /home/gitpod/.pyenv/versions/3.8.13/lib/python3.8/site-packages (from pandas) (2.8.2)\r\n",
      "Collecting kiwisolver>=1.0.1\r\n",
      "  Downloading kiwisolver-1.4.4-cp38-cp38-manylinux_2_5_x86_64.manylinux1_x86_64.whl (1.2 MB)\r\n",
      "\u001b[?25l     \u001b[90m━━━━━━━━━━━━━━━━━━━━━━━━━━━━━━━━━━━━━━━━\u001b[0m \u001b[32m0.0/1.2 MB\u001b[0m \u001b[31m?\u001b[0m eta \u001b[36m-:--:--\u001b[0m\r\u001b[2K     \u001b[90m━━━━━━━━━━━━━━━━━━━━━━━━━━━━━━━━━━━━━━━━\u001b[0m \u001b[32m1.2/1.2 MB\u001b[0m \u001b[31m56.2 MB/s\u001b[0m eta \u001b[36m0:00:00\u001b[0m\r\n",
      "\u001b[?25hRequirement already satisfied: packaging>=20.0 in /home/gitpod/.pyenv/versions/3.8.13/lib/python3.8/site-packages (from matplotlib) (21.3)\r\n",
      "Collecting fonttools>=4.22.0\r\n",
      "  Downloading fonttools-4.38.0-py3-none-any.whl (965 kB)\r\n",
      "\u001b[?25l     \u001b[90m━━━━━━━━━━━━━━━━━━━━━━━━━━━━━━━━━━━━━━━━\u001b[0m \u001b[32m0.0/965.4 kB\u001b[0m \u001b[31m?\u001b[0m eta \u001b[36m-:--:--\u001b[0m\r\u001b[2K     \u001b[90m━━━━━━━━━━━━━━━━━━━━━━━━━━━━━━━━━━━━━━\u001b[0m \u001b[32m965.4/965.4 kB\u001b[0m \u001b[31m40.7 MB/s\u001b[0m eta \u001b[36m0:00:00\u001b[0m\r\n",
      "\u001b[?25hCollecting cycler>=0.10\r\n",
      "  Downloading cycler-0.11.0-py3-none-any.whl (6.4 kB)\r\n",
      "Requirement already satisfied: pyparsing>=2.2.1 in /home/gitpod/.pyenv/versions/3.8.13/lib/python3.8/site-packages (from matplotlib) (3.0.9)\r\n",
      "Collecting pillow>=6.2.0\r\n",
      "  Downloading Pillow-9.3.0-cp38-cp38-manylinux_2_28_x86_64.whl (3.3 MB)\r\n",
      "\u001b[?25l     \u001b[90m━━━━━━━━━━━━━━━━━━━━━━━━━━━━━━━━━━━━━━━━\u001b[0m \u001b[32m0.0/3.3 MB\u001b[0m \u001b[31m?\u001b[0m eta \u001b[36m-:--:--\u001b[0m\r\u001b[2K     \u001b[91m━━━━━━━━━━━━━━━━━━━━━━━━━━━━━━━━━━━━━━━\u001b[0m\u001b[91m╸\u001b[0m \u001b[32m3.3/3.3 MB\u001b[0m \u001b[31m246.9 MB/s\u001b[0m eta \u001b[36m0:00:01\u001b[0m\r\u001b[2K     \u001b[90m━━━━━━━━━━━━━━━━━━━━━━━━━━━━━━━━━━━━━━━━\u001b[0m \u001b[32m3.3/3.3 MB\u001b[0m \u001b[31m91.9 MB/s\u001b[0m eta \u001b[36m0:00:00\u001b[0m\r\n",
      "\u001b[?25hCollecting contourpy>=1.0.1\r\n",
      "  Downloading contourpy-1.0.6-cp38-cp38-manylinux_2_17_x86_64.manylinux2014_x86_64.whl (295 kB)\r\n",
      "\u001b[?25l     \u001b[90m━━━━━━━━━━━━━━━━━━━━━━━━━━━━━━━━━━━━━━━━\u001b[0m \u001b[32m0.0/296.0 kB\u001b[0m \u001b[31m?\u001b[0m eta \u001b[36m-:--:--\u001b[0m\r\u001b[2K     \u001b[90m━━━━━━━━━━━━━━━━━━━━━━━━━━━━━━━━━━━━━━\u001b[0m \u001b[32m296.0/296.0 kB\u001b[0m \u001b[31m15.2 MB/s\u001b[0m eta \u001b[36m0:00:00\u001b[0m\r\n",
      "\u001b[?25hCollecting matplotlib\r\n",
      "  Downloading matplotlib-3.6.0-cp38-cp38-manylinux_2_12_x86_64.manylinux2010_x86_64.whl (9.4 MB)\r\n",
      "\u001b[?25l     \u001b[90m━━━━━━━━━━━━━━━━━━━━━━━━━━━━━━━━━━━━━━━━\u001b[0m \u001b[32m0.0/9.4 MB\u001b[0m \u001b[31m?\u001b[0m eta \u001b[36m-:--:--\u001b[0m\r\u001b[2K     \u001b[91m━━━━━━━━━━━━━━━━━━━━━━━━━━━━━━━━\u001b[0m\u001b[90m╺\u001b[0m\u001b[90m━━━━━━━\u001b[0m \u001b[32m7.5/9.4 MB\u001b[0m \u001b[31m227.4 MB/s\u001b[0m eta \u001b[36m0:00:01\u001b[0m\r\u001b[2K     \u001b[91m━━━━━━━━━━━━━━━━━━━━━━━━━━━━━━━━━━━━━━━\u001b[0m\u001b[91m╸\u001b[0m \u001b[32m9.3/9.4 MB\u001b[0m \u001b[31m219.5 MB/s\u001b[0m eta \u001b[36m0:00:01\u001b[0m\r\u001b[2K     \u001b[90m━━━━━━━━━━━━━━━━━━━━━━━━━━━━━━━━━━━━━━━━\u001b[0m \u001b[32m9.4/9.4 MB\u001b[0m \u001b[31m125.4 MB/s\u001b[0m eta \u001b[36m0:00:00\u001b[0m\r\n",
      "\u001b[?25hRequirement already satisfied: six>=1.5 in /home/gitpod/.pyenv/versions/3.8.13/lib/python3.8/site-packages (from python-dateutil>=2.8.1->pandas) (1.16.0)\r\n",
      "Installing collected packages: pytz, pillow, numpy, kiwisolver, fonttools, cycler, pandas, contourpy, matplotlib, wordcloud, seaborn\r\n",
      "Successfully installed contourpy-1.0.6 cycler-0.11.0 fonttools-4.38.0 kiwisolver-1.4.4 matplotlib-3.6.0 numpy-1.23.4 pandas-1.5.1 pillow-9.3.0 pytz-2022.6 seaborn-0.12.1 wordcloud-1.8.2.2\r\n",
      "\r\n",
      "\u001b[1m[\u001b[0m\u001b[34;49mnotice\u001b[0m\u001b[1;39;49m]\u001b[0m\u001b[39;49m A new release of pip available: \u001b[0m\u001b[31;49m22.2.2\u001b[0m\u001b[39;49m -> \u001b[0m\u001b[32;49m22.3\u001b[0m\r\n",
      "\u001b[1m[\u001b[0m\u001b[34;49mnotice\u001b[0m\u001b[1;39;49m]\u001b[0m\u001b[39;49m To update, run: \u001b[0m\u001b[32;49mpip install --upgrade pip\u001b[0m\r\n",
      "Note: you may need to restart the kernel to use updated packages.\n"
     ]
    }
   ],
   "source": [
    "pip install pandas matplotlib seaborn wordcloud"
   ]
  },
  {
   "cell_type": "code",
   "execution_count": 3,
   "id": "35fcfef8",
   "metadata": {},
   "outputs": [],
   "source": [
    "import pandas as pd\n",
    "import numpy as np\n",
    "import matplotlib.pyplot as plt\n",
    "import seaborn as sns\n",
    "import datetime"
   ]
  },
  {
   "cell_type": "markdown",
   "id": "082e6d18",
   "metadata": {},
   "source": [
    "### Loading the data"
   ]
  },
  {
   "cell_type": "code",
   "execution_count": 4,
   "id": "bcc40632",
   "metadata": {},
   "outputs": [],
   "source": [
    "events = pd.read_csv('../sources/events.csv')\n",
    "registered = pd.read_csv('../sources/registrados_en_eventos.csv')"
   ]
  },
  {
   "cell_type": "markdown",
   "id": "15b8f817",
   "metadata": {},
   "source": [
    "## Data Cleaning"
   ]
  },
  {
   "cell_type": "markdown",
   "id": "133a5634",
   "metadata": {},
   "source": [
    "**Cleaning registered_in_events**"
   ]
  },
  {
   "cell_type": "code",
   "execution_count": 5,
   "id": "5bc94f0d",
   "metadata": {},
   "outputs": [],
   "source": [
    "TO_DROP_REGISTERED = ['id', 'created_at','updated_at','status']\n",
    "\n",
    "#Drop useless columns in registered_in_events\n",
    "\n",
    "registered.drop(TO_DROP_REGISTERED, axis=1, inplace=True)"
   ]
  },
  {
   "cell_type": "markdown",
   "id": "7c9b3a9a",
   "metadata": {},
   "source": [
    "**Cleaning events**"
   ]
  },
  {
   "cell_type": "code",
   "execution_count": 6,
   "id": "9318d55d",
   "metadata": {},
   "outputs": [
    {
     "name": "stdout",
     "output_type": "stream",
     "text": [
      "<class 'pandas.core.frame.DataFrame'>\n",
      "RangeIndex: 192 entries, 0 to 191\n",
      "Data columns (total 31 columns):\n",
      " #   Column                       Non-Null Count  Dtype  \n",
      "---  ------                       --------------  -----  \n",
      " 0   id                           192 non-null    int64  \n",
      " 1   description                  190 non-null    object \n",
      " 2   title                        192 non-null    object \n",
      " 3   lang                         84 non-null     object \n",
      " 4   url                          190 non-null    object \n",
      " 5   banner                       189 non-null    object \n",
      " 6   capacity                     192 non-null    int64  \n",
      " 7   starting_at                  192 non-null    object \n",
      " 8   ending_at                    192 non-null    object \n",
      " 9   status                       192 non-null    object \n",
      " 10  created_at                   192 non-null    object \n",
      " 11  updated_at                   192 non-null    object \n",
      " 12  author_id                    0 non-null      float64\n",
      " 13  event_type_id                84 non-null     float64\n",
      " 14  host                         71 non-null     object \n",
      " 15  venue_id                     0 non-null      float64\n",
      " 16  excerpt                      190 non-null    object \n",
      " 17  academy_id                   178 non-null    float64\n",
      " 18  eventbrite_id                190 non-null    float64\n",
      " 19  eventbrite_organizer_id      0 non-null      float64\n",
      " 20  eventbrite_status            190 non-null    object \n",
      " 21  eventbrite_url               190 non-null    object \n",
      " 22  organization_id              192 non-null    int64  \n",
      " 23  published_at                 186 non-null    object \n",
      " 24  eventbrite_sync_description  192 non-null    object \n",
      " 25  eventbrite_sync_status       192 non-null    object \n",
      " 26  online_event                 192 non-null    bool   \n",
      " 27  sync_with_eventbrite         192 non-null    bool   \n",
      " 28  currency                     192 non-null    object \n",
      " 29  slug                         82 non-null     object \n",
      " 30  tags                         82 non-null     object \n",
      "dtypes: bool(2), float64(6), int64(3), object(20)\n",
      "memory usage: 44.0+ KB\n"
     ]
    }
   ],
   "source": [
    "events.info()"
   ]
  },
  {
   "cell_type": "code",
   "execution_count": 7,
   "id": "f209f6f4",
   "metadata": {},
   "outputs": [],
   "source": [
    "#Useless columns\n",
    "\n",
    "TO_DROP_EVENTS = ['created_at','updated_at','organization_id','author_id']\n",
    "\n",
    "#Drop useless columns in events\n",
    "\n",
    "events.drop(TO_DROP_EVENTS, axis=1, inplace=True)\n",
    "\n",
    "#Drop null columns in events\n",
    "events.dropna(axis=1, how='all', inplace=True)\n",
    "\n"
   ]
  },
  {
   "cell_type": "markdown",
   "id": "3f4e9e9c",
   "metadata": {},
   "source": [
    "**Joining both datasets**"
   ]
  },
  {
   "cell_type": "code",
   "execution_count": 6,
   "id": "c2d486bc",
   "metadata": {},
   "outputs": [
    {
     "data": {
      "text/plain": [
       "(5495, 23)"
      ]
     },
     "execution_count": 6,
     "metadata": {},
     "output_type": "execute_result"
    }
   ],
   "source": [
    "merged = pd.merge(registered, events, left_on=\"event_id\", right_on=\"id\").drop(['id','excerpt','eventbrite_sync_description','eventbrite_url','eventbrite_id','banner'], axis=1)\n",
    "merged.shape"
   ]
  },
  {
   "cell_type": "markdown",
   "id": "d9fd66a4",
   "metadata": {},
   "source": [
    "**Cleaning merged dataframe**"
   ]
  },
  {
   "cell_type": "code",
   "execution_count": 7,
   "id": "c23d3312",
   "metadata": {},
   "outputs": [],
   "source": [
    "merged['starting_at'] = merged['starting_at'].apply(pd.to_datetime)\n",
    "merged['ending_at'] = merged['ending_at'].apply(pd.to_datetime)\n",
    "merged['published_at'] = merged['published_at'].apply(pd.to_datetime)\n",
    "\n",
    "#Changing format\n",
    "merged['starting_at'] = merged['starting_at'].dt.strftime('%Y-%m-%d %H:%M:%S')\n",
    "merged['ending_at'] = merged['ending_at'].dt.strftime('%Y-%m-%d %H:%M:%S')\n",
    "merged['published_at'] = merged['published_at'].dt.strftime('%Y-%m-%d %H:%M:%S')\n",
    "\n",
    "#Format change also changed the column type to object, so we need to convert it to datetime again \n",
    "merged['starting_at'] = merged['starting_at'].apply(pd.to_datetime)\n",
    "merged['ending_at'] = merged['ending_at'].apply(pd.to_datetime)\n",
    "merged['published_at'] = merged['published_at'].apply(pd.to_datetime)"
   ]
  },
  {
   "cell_type": "code",
   "execution_count": 8,
   "id": "c076961a",
   "metadata": {},
   "outputs": [],
   "source": [
    "#Replacing commas in certain columns\n",
    "\n",
    "merged['tags'] = merged['tags'].str.replace(',', '|')\n",
    "merged['description'] = merged['description'].str.replace(',', ' ')\n",
    "merged['title'] = merged['title'].str.replace(',', ' ')\n",
    "\n",
    "#Replacing nulls with 'undefined'\n",
    "\n",
    "merged = merged.replace(np.nan, 'Undefined', regex=True)"
   ]
  },
  {
   "cell_type": "code",
   "execution_count": 9,
   "id": "4dd6e414",
   "metadata": {},
   "outputs": [],
   "source": [
    "#Assign language to events with missing info.\n",
    "\n",
    "merged['lang'] = np.where((merged['event_id'].isin([35,36,38,40,414,37,130,123,41,122,141,42,146,125,145,46,48,47,49,131,\n",
    "                                                    127,85,86,84,121,128,119,181,189,184,135,134,136,182,192,193,137,138,\n",
    "                                                    139,186,195,198,217,196,213,203,212,205,204,209,211,218,262,339,268,\n",
    "                                                    260,263,142,183,140,432,261,363,264,344,340,308,316])),'es', merged['lang'])\n",
    "\n",
    "merged['lang'] = np.where((merged['event_id'].isin([39,43,187,45,44,190,144,50,51,126,180,191,132,129,120,185,188,197,200,\n",
    "                                                    194,199,201,202,206,216,208,252,214,251,254,368,357,124,207,210,215])),'en', \n",
    "                                                    merged['lang'])"
   ]
  },
  {
   "cell_type": "code",
   "execution_count": 10,
   "id": "ded88919",
   "metadata": {},
   "outputs": [],
   "source": [
    "#create a event tags dataframe to explode tags\n",
    "\n",
    "tags_df = merged.groupby(['event_id','title','starting_at','tags'])['tags'].agg(['count']).reset_index()"
   ]
  },
  {
   "cell_type": "code",
   "execution_count": 11,
   "id": "1e08aba7",
   "metadata": {},
   "outputs": [
    {
     "data": {
      "text/plain": [
       "(160, 5)"
      ]
     },
     "execution_count": 11,
     "metadata": {},
     "output_type": "execute_result"
    }
   ],
   "source": [
    "tags_df.rename(columns = {'count':'event_registrants'}, inplace = True)\n",
    "tags_df.shape"
   ]
  },
  {
   "cell_type": "code",
   "execution_count": 12,
   "id": "d19f4463",
   "metadata": {},
   "outputs": [],
   "source": [
    "#converting tags column in lowercase and then in a list instead of string\n",
    "\n",
    "tags_df['tags'] = tags_df['tags'].str.lower()\n",
    "\n",
    "tags_df['tags'] = tags_df.tags.apply(lambda x: x.split('|'))"
   ]
  },
  {
   "cell_type": "code",
   "execution_count": 13,
   "id": "f673fe7f",
   "metadata": {},
   "outputs": [],
   "source": [
    "#Exploding the list to rows\n",
    "\n",
    "tags_df = tags_df.explode('tags').drop_duplicates()"
   ]
  },
  {
   "cell_type": "code",
   "execution_count": 14,
   "id": "f1174207",
   "metadata": {},
   "outputs": [
    {
     "data": {
      "image/png": "[encoded data removed]",
      "text/plain": [
       "<Figure size 1000x1000 with 1 Axes>"
      ]
     },
     "metadata": {},
     "output_type": "display_data"
    }
   ],
   "source": [
    "#Creating a word cloud\n",
    "\n",
    "import matplotlib.pyplot as plt\n",
    "from wordcloud import WordCloud\n",
    "\n",
    "\n",
    "df_wc = tags_df[(tags_df['tags'] =='tech-machinelearning')]\n",
    "\n",
    "df_wc = df_wc[['title','event_registrants']]\n",
    "df_wc = df_wc.set_index('title').to_dict()['event_registrants']\n",
    "\n",
    "wc = WordCloud(width=800, height=400, max_words=200,).generate_from_frequencies(df_wc)\n",
    "plt.figure(figsize=(10, 10))\n",
    "plt.imshow(wc, interpolation='bilinear')\n",
    "plt.axis('off')\n",
    "plt.show()"
   ]
  },
  {
   "cell_type": "code",
   "execution_count": 15,
   "id": "40beae85",
   "metadata": {},
   "outputs": [],
   "source": [
    "#Saving joined dataset\n",
    "\n",
    "merged.to_csv('../output/events_and_registrants.csv')\n",
    "tags_df.to_csv('../output/tags_df.csv')"
   ]
  },
  {
   "cell_type": "markdown",
   "id": "50e1b001",
   "metadata": {},
   "source": [
    "**When joining with form_entries**"
   ]
  },
  {
   "cell_type": "code",
   "execution_count": 16,
   "id": "df1be135",
   "metadata": {},
   "outputs": [],
   "source": [
    "#forms = pd.read_csv('../sources/clean.csv')"
   ]
  },
  {
   "cell_type": "code",
   "execution_count": 17,
   "id": "cdda89fd",
   "metadata": {},
   "outputs": [],
   "source": [
    "#final_df = pd.merge(merged, forms[['email','country','deal_status','won_at']],on='email', how='left')\n"
   ]
  },
  {
   "cell_type": "code",
   "execution_count": 18,
   "id": "84ecf05b",
   "metadata": {},
   "outputs": [],
   "source": [
    "#final_df[['starting_at','won_at']] = final_df[['starting_at','won_at']].apply(pd.to_datetime)"
   ]
  },
  {
   "cell_type": "code",
   "execution_count": 19,
   "id": "c7257b12",
   "metadata": {},
   "outputs": [],
   "source": [
    "#final_df['days_until_deal'] = (final_df['won_at'] - final_df['starting_at']).dt.days\n"
   ]
  },
  {
   "cell_type": "code",
   "execution_count": 20,
   "id": "fecda9be",
   "metadata": {},
   "outputs": [],
   "source": [
    "#final_df[final_df['won_at'] > final_df['starting_at']][['email','deal_status','starting_at','won_at','days_until_deal']].sort_values('days_until_deal')"
   ]
  }
 ],
 "metadata": {
  "kernelspec": {
   "display_name": "Python 3.8.13 64-bit ('shims')",
   "language": "python",
   "name": "python3"
  },
  "language_info": {
   "codemirror_mode": {
    "name": "ipython",
    "version": 3
   },
   "file_extension": ".py",
   "mimetype": "text/x-python",
   "name": "python",
   "nbconvert_exporter": "python",
   "pygments_lexer": "ipython3",
   "version": "3.8.13"
  },
  "vscode": {
   "interpreter": {
    "hash": "9ac03a0a6051494cc606d484d27d20fce22fb7b4d169f583271e11d5ba46a56e"
   }
  }
 },
 "nbformat": 4,
 "nbformat_minor": 5
}
