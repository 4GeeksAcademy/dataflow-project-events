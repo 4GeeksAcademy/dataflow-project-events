{
 "cells": [
  {
   "cell_type": "markdown",
   "id": "75c6fedd",
   "metadata": {},
   "source": [
    "# Cleaning Events data"
   ]
  },
  {
   "cell_type": "markdown",
   "id": "85701093",
   "metadata": {},
   "source": [
    "### Importing necessary libraries"
   ]
  },
  {
   "cell_type": "code",
   "execution_count": 1,
   "id": "ce727954",
   "metadata": {},
   "outputs": [
    {
     "name": "stdout",
     "output_type": "stream",
     "text": [
      "Collecting pandas\n",
      "  Using cached pandas-1.5.1-cp38-cp38-manylinux_2_17_x86_64.manylinux2014_x86_64.whl (12.2 MB)\n",
      "Collecting matplotlib\n",
      "  Using cached matplotlib-3.6.2-cp38-cp38-manylinux_2_12_x86_64.manylinux2010_x86_64.whl (9.4 MB)\n",
      "Collecting seaborn\n",
      "  Using cached seaborn-0.12.1-py3-none-any.whl (288 kB)\n",
      "Collecting wordcloud\n",
      "  Using cached wordcloud-1.8.2.2-cp38-cp38-manylinux_2_17_x86_64.manylinux2014_x86_64.whl (458 kB)\n",
      "Requirement already satisfied: python-dateutil>=2.8.1 in /home/gitpod/.pyenv/versions/3.8.13/lib/python3.8/site-packages (from pandas) (2.8.2)\n",
      "Collecting numpy>=1.20.3\n",
      "  Using cached numpy-1.23.4-cp38-cp38-manylinux_2_17_x86_64.manylinux2014_x86_64.whl (17.1 MB)\n",
      "Collecting pytz>=2020.1\n",
      "  Using cached pytz-2022.6-py2.py3-none-any.whl (498 kB)\n",
      "Collecting cycler>=0.10\n",
      "  Using cached cycler-0.11.0-py3-none-any.whl (6.4 kB)\n",
      "Collecting kiwisolver>=1.0.1\n",
      "  Using cached kiwisolver-1.4.4-cp38-cp38-manylinux_2_5_x86_64.manylinux1_x86_64.whl (1.2 MB)\n",
      "Collecting fonttools>=4.22.0\n",
      "  Using cached fonttools-4.38.0-py3-none-any.whl (965 kB)\n",
      "Collecting pillow>=6.2.0\n",
      "  Using cached Pillow-9.3.0-cp38-cp38-manylinux_2_28_x86_64.whl (3.3 MB)\n",
      "Requirement already satisfied: pyparsing>=2.2.1 in /home/gitpod/.pyenv/versions/3.8.13/lib/python3.8/site-packages (from matplotlib) (3.0.9)\n",
      "Requirement already satisfied: packaging>=20.0 in /home/gitpod/.pyenv/versions/3.8.13/lib/python3.8/site-packages (from matplotlib) (21.3)\n",
      "Collecting contourpy>=1.0.1\n",
      "  Using cached contourpy-1.0.6-cp38-cp38-manylinux_2_17_x86_64.manylinux2014_x86_64.whl (295 kB)\n",
      "Requirement already satisfied: six>=1.5 in /home/gitpod/.pyenv/versions/3.8.13/lib/python3.8/site-packages (from python-dateutil>=2.8.1->pandas) (1.16.0)\n",
      "Installing collected packages: pytz, pillow, numpy, kiwisolver, fonttools, cycler, pandas, contourpy, matplotlib, wordcloud, seaborn\n",
      "Successfully installed contourpy-1.0.6 cycler-0.11.0 fonttools-4.38.0 kiwisolver-1.4.4 matplotlib-3.6.2 numpy-1.23.4 pandas-1.5.1 pillow-9.3.0 pytz-2022.6 seaborn-0.12.1 wordcloud-1.8.2.2\n",
      "\n",
      "\u001b[1m[\u001b[0m\u001b[34;49mnotice\u001b[0m\u001b[1;39;49m]\u001b[0m\u001b[39;49m A new release of pip available: \u001b[0m\u001b[31;49m22.2.2\u001b[0m\u001b[39;49m -> \u001b[0m\u001b[32;49m22.3.1\u001b[0m\n",
      "\u001b[1m[\u001b[0m\u001b[34;49mnotice\u001b[0m\u001b[1;39;49m]\u001b[0m\u001b[39;49m To update, run: \u001b[0m\u001b[32;49mpip install --upgrade pip\u001b[0m\n",
      "Note: you may need to restart the kernel to use updated packages.\n"
     ]
    }
   ],
   "source": [
    "pip install pandas matplotlib seaborn wordcloud"
   ]
  },
  {
   "cell_type": "code",
   "execution_count": 2,
   "id": "35fcfef8",
   "metadata": {},
   "outputs": [],
   "source": [
    "import pandas as pd\n",
    "import numpy as np\n",
    "import matplotlib.pyplot as plt\n",
    "import seaborn as sns\n",
    "import datetime"
   ]
  },
  {
   "cell_type": "markdown",
   "id": "082e6d18",
   "metadata": {},
   "source": [
    "### Loading the data"
   ]
  },
  {
   "cell_type": "code",
   "execution_count": 3,
   "id": "bcc40632",
   "metadata": {},
   "outputs": [],
   "source": [
    "events = pd.read_csv('../sources/heroku-events.csv')\n",
    "registered = pd.read_csv('../sources/heroku-checkins.csv')"
   ]
  },
  {
   "cell_type": "markdown",
   "id": "15b8f817",
   "metadata": {},
   "source": [
    "## Data Cleaning"
   ]
  },
  {
   "cell_type": "markdown",
   "id": "133a5634",
   "metadata": {},
   "source": [
    "**Cleaning registered_in_events**"
   ]
  },
  {
   "cell_type": "code",
   "execution_count": 4,
   "id": "a8a4c433",
   "metadata": {},
   "outputs": [
    {
     "name": "stdout",
     "output_type": "stream",
     "text": [
      "Shape of checkins dataframe before cleaning: (5548, 8)\n"
     ]
    }
   ],
   "source": [
    "print('Shape of checkins dataframe before cleaning:', registered.shape)"
   ]
  },
  {
   "cell_type": "code",
   "execution_count": 5,
   "id": "5bc94f0d",
   "metadata": {},
   "outputs": [],
   "source": [
    "TO_DROP_REGISTERED = ['id', 'created_at','updated_at','status']\n",
    "\n",
    "#Drop useless columns in registered_in_events\n",
    "\n",
    "registered.drop(TO_DROP_REGISTERED, axis=1, inplace=True)"
   ]
  },
  {
   "cell_type": "code",
   "execution_count": 6,
   "id": "c3033f00",
   "metadata": {},
   "outputs": [],
   "source": [
    "registered = registered[registered[\"email\"].str.contains(\"@4geeks\") == False]\n",
    "registered = registered[registered[\"email\"].str.contains(\"@stcsolutions\") == False]"
   ]
  },
  {
   "cell_type": "code",
   "execution_count": 7,
   "id": "a2b7b7cb",
   "metadata": {},
   "outputs": [
    {
     "name": "stdout",
     "output_type": "stream",
     "text": [
      "Shape of checkins dataframe after cleaning: (5526, 4)\n"
     ]
    }
   ],
   "source": [
    "print('Shape of checkins dataframe after cleaning:', registered.shape)"
   ]
  },
  {
   "cell_type": "markdown",
   "id": "7c9b3a9a",
   "metadata": {},
   "source": [
    "**Cleaning events**"
   ]
  },
  {
   "cell_type": "code",
   "execution_count": 8,
   "id": "4186ec07",
   "metadata": {},
   "outputs": [
    {
     "name": "stdout",
     "output_type": "stream",
     "text": [
      "Shape of events dataframe before cleaning: (194, 31)\n"
     ]
    }
   ],
   "source": [
    "print('Shape of events dataframe before cleaning:', events.shape)"
   ]
  },
  {
   "cell_type": "code",
   "execution_count": 9,
   "id": "9318d55d",
   "metadata": {},
   "outputs": [
    {
     "name": "stdout",
     "output_type": "stream",
     "text": [
      "<class 'pandas.core.frame.DataFrame'>\n",
      "RangeIndex: 194 entries, 0 to 193\n",
      "Data columns (total 31 columns):\n",
      " #   Column                       Non-Null Count  Dtype  \n",
      "---  ------                       --------------  -----  \n",
      " 0   id                           194 non-null    int64  \n",
      " 1   description                  192 non-null    object \n",
      " 2   title                        194 non-null    object \n",
      " 3   lang                         86 non-null     object \n",
      " 4   url                          192 non-null    object \n",
      " 5   banner                       191 non-null    object \n",
      " 6   capacity                     194 non-null    int64  \n",
      " 7   starting_at                  194 non-null    object \n",
      " 8   ending_at                    194 non-null    object \n",
      " 9   status                       194 non-null    object \n",
      " 10  created_at                   194 non-null    object \n",
      " 11  updated_at                   194 non-null    object \n",
      " 12  author_id                    0 non-null      float64\n",
      " 13  event_type_id                86 non-null     float64\n",
      " 14  host                         73 non-null     object \n",
      " 15  venue_id                     0 non-null      float64\n",
      " 16  excerpt                      192 non-null    object \n",
      " 17  academy_id                   180 non-null    float64\n",
      " 18  eventbrite_id                192 non-null    float64\n",
      " 19  eventbrite_organizer_id      0 non-null      float64\n",
      " 20  eventbrite_status            192 non-null    object \n",
      " 21  eventbrite_url               192 non-null    object \n",
      " 22  organization_id              194 non-null    int64  \n",
      " 23  published_at                 187 non-null    object \n",
      " 24  eventbrite_sync_description  194 non-null    object \n",
      " 25  eventbrite_sync_status       194 non-null    object \n",
      " 26  online_event                 194 non-null    bool   \n",
      " 27  sync_with_eventbrite         194 non-null    bool   \n",
      " 28  currency                     194 non-null    object \n",
      " 29  slug                         84 non-null     object \n",
      " 30  tags                         84 non-null     object \n",
      "dtypes: bool(2), float64(6), int64(3), object(20)\n",
      "memory usage: 44.5+ KB\n"
     ]
    }
   ],
   "source": [
    "events.info()"
   ]
  },
  {
   "cell_type": "code",
   "execution_count": 10,
   "id": "f209f6f4",
   "metadata": {},
   "outputs": [],
   "source": [
    "#Useless columns\n",
    "\n",
    "TO_DROP_EVENTS = ['created_at','updated_at','organization_id','author_id']\n",
    "\n",
    "#Drop useless columns in events\n",
    "\n",
    "events.drop(TO_DROP_EVENTS, axis=1, inplace=True)\n",
    "\n",
    "#Drop null columns in events\n",
    "events.dropna(axis=1, how='all', inplace=True)\n",
    "\n"
   ]
  },
  {
   "cell_type": "code",
   "execution_count": 11,
   "id": "ef87701c",
   "metadata": {},
   "outputs": [
    {
     "name": "stdout",
     "output_type": "stream",
     "text": [
      "Shape of events dataframe after cleaning: (194, 25)\n"
     ]
    }
   ],
   "source": [
    "print('Shape of events dataframe after cleaning:', events.shape)"
   ]
  },
  {
   "cell_type": "markdown",
   "id": "3f4e9e9c",
   "metadata": {},
   "source": [
    "**Joining both datasets**"
   ]
  },
  {
   "cell_type": "code",
   "execution_count": 12,
   "id": "c2d486bc",
   "metadata": {},
   "outputs": [
    {
     "name": "stdout",
     "output_type": "stream",
     "text": [
      "Shape of merged dataframe: (5526, 23)\n"
     ]
    }
   ],
   "source": [
    "merged = pd.merge(registered, events, left_on=\"event_id\", right_on=\"id\").drop(['id','excerpt','eventbrite_sync_description','eventbrite_url','eventbrite_id','banner'], axis=1)\n",
    "print('Shape of merged dataframe:', merged.shape)"
   ]
  },
  {
   "cell_type": "code",
   "execution_count": 13,
   "id": "665b5ba9",
   "metadata": {},
   "outputs": [
    {
     "name": "stdout",
     "output_type": "stream",
     "text": [
      "<class 'pandas.core.frame.DataFrame'>\n",
      "Int64Index: 5526 entries, 0 to 5525\n",
      "Data columns (total 23 columns):\n",
      " #   Column                  Non-Null Count  Dtype  \n",
      "---  ------                  --------------  -----  \n",
      " 0   email                   5526 non-null   object \n",
      " 1   attendee_id             1186 non-null   float64\n",
      " 2   event_id                5526 non-null   int64  \n",
      " 3   attended_at             0 non-null      float64\n",
      " 4   description             5526 non-null   object \n",
      " 5   title                   5526 non-null   object \n",
      " 6   lang                    2826 non-null   object \n",
      " 7   url                     5526 non-null   object \n",
      " 8   capacity                5526 non-null   int64  \n",
      " 9   starting_at             5526 non-null   object \n",
      " 10  ending_at               5526 non-null   object \n",
      " 11  status                  5526 non-null   object \n",
      " 12  event_type_id           2826 non-null   float64\n",
      " 13  host                    2437 non-null   object \n",
      " 14  academy_id              4663 non-null   float64\n",
      " 15  eventbrite_status       5526 non-null   object \n",
      " 16  published_at            5526 non-null   object \n",
      " 17  eventbrite_sync_status  5526 non-null   object \n",
      " 18  online_event            5526 non-null   bool   \n",
      " 19  sync_with_eventbrite    5526 non-null   bool   \n",
      " 20  currency                5526 non-null   object \n",
      " 21  slug                    2780 non-null   object \n",
      " 22  tags                    2780 non-null   object \n",
      "dtypes: bool(2), float64(4), int64(2), object(15)\n",
      "memory usage: 960.6+ KB\n"
     ]
    }
   ],
   "source": [
    "merged.info()"
   ]
  },
  {
   "cell_type": "markdown",
   "id": "d9fd66a4",
   "metadata": {},
   "source": [
    "**Cleaning merged dataframe**"
   ]
  },
  {
   "cell_type": "code",
   "execution_count": 14,
   "id": "c23d3312",
   "metadata": {},
   "outputs": [],
   "source": [
    "merged['starting_at'] = merged['starting_at'].apply(pd.to_datetime)\n",
    "merged['ending_at'] = merged['ending_at'].apply(pd.to_datetime)\n",
    "merged['published_at'] = merged['published_at'].apply(pd.to_datetime)\n",
    "\n",
    "#Changing format\n",
    "merged['starting_at'] = merged['starting_at'].dt.strftime('%Y-%m-%d %H:%M:%S')\n",
    "merged['ending_at'] = merged['ending_at'].dt.strftime('%Y-%m-%d %H:%M:%S')\n",
    "merged['published_at'] = merged['published_at'].dt.strftime('%Y-%m-%d %H:%M:%S')\n",
    "\n",
    "#Format change also changed the column type to object, so we need to convert it to datetime again \n",
    "merged['starting_at'] = merged['starting_at'].apply(pd.to_datetime)\n",
    "merged['ending_at'] = merged['ending_at'].apply(pd.to_datetime)\n",
    "merged['published_at'] = merged['published_at'].apply(pd.to_datetime)"
   ]
  },
  {
   "cell_type": "code",
   "execution_count": 15,
   "id": "c076961a",
   "metadata": {},
   "outputs": [],
   "source": [
    "#Replacing commas in certain columns\n",
    "\n",
    "merged['tags'] = merged['tags'].str.replace(',', '|')\n",
    "merged['description'] = merged['description'].str.replace(',', ' ')\n",
    "merged['title'] = merged['title'].str.replace(',', ' ')\n",
    "\n",
    "#Replacing nulls with 'undefined'\n",
    "\n",
    "merged = merged.replace(np.nan, 'Undefined', regex=True)"
   ]
  },
  {
   "cell_type": "code",
   "execution_count": 16,
   "id": "4dd6e414",
   "metadata": {},
   "outputs": [],
   "source": [
    "#Assign language to events with missing info.\n",
    "\n",
    "merged['lang'] = np.where((merged['event_id'].isin([35,36,38,40,414,37,130,123,41,122,141,42,146,125,145,46,48,47,49,131,\n",
    "                                                    127,85,86,84,121,128,119,181,189,184,135,134,136,182,192,193,137,138,\n",
    "                                                    139,186,195,198,217,196,213,203,212,205,204,209,211,218,262,339,268,\n",
    "                                                    260,263,142,183,140,432,261,363,264,344,340,308,316])),'es', merged['lang'])\n",
    "\n",
    "merged['lang'] = np.where((merged['event_id'].isin([39,43,187,45,44,190,144,50,51,126,180,191,132,129,120,185,188,197,200,\n",
    "                                                    194,199,201,202,206,216,208,252,214,251,254,368,357,124,207,210,215])),'en', \n",
    "                                                    merged['lang'])"
   ]
  },
  {
   "cell_type": "code",
   "execution_count": 17,
   "id": "feea096a",
   "metadata": {},
   "outputs": [
    {
     "name": "stdout",
     "output_type": "stream",
     "text": [
      "Shape of merged dataframe after cleaning: (5526, 23)\n"
     ]
    }
   ],
   "source": [
    "print('Shape of merged dataframe after cleaning:', merged.shape)"
   ]
  },
  {
   "cell_type": "code",
   "execution_count": 18,
   "id": "ded88919",
   "metadata": {},
   "outputs": [],
   "source": [
    "#create a event tags dataframe to explode tags\n",
    "\n",
    "tags_df = merged.groupby(['event_id','title','starting_at','tags'])['tags'].agg(['count']).reset_index()"
   ]
  },
  {
   "cell_type": "code",
   "execution_count": 19,
   "id": "1e08aba7",
   "metadata": {},
   "outputs": [
    {
     "data": {
      "text/plain": [
       "(162, 5)"
      ]
     },
     "execution_count": 19,
     "metadata": {},
     "output_type": "execute_result"
    }
   ],
   "source": [
    "tags_df.rename(columns = {'count':'event_registrants'}, inplace = True)\n",
    "tags_df.shape"
   ]
  },
  {
   "cell_type": "code",
   "execution_count": 20,
   "id": "d19f4463",
   "metadata": {},
   "outputs": [],
   "source": [
    "#converting tags column in lowercase and then in a list instead of string\n",
    "\n",
    "tags_df['tags'] = tags_df['tags'].str.lower()\n",
    "\n",
    "tags_df['tags'] = tags_df.tags.apply(lambda x: x.split('|'))"
   ]
  },
  {
   "cell_type": "code",
   "execution_count": 21,
   "id": "f673fe7f",
   "metadata": {},
   "outputs": [],
   "source": [
    "#Exploding the list to rows\n",
    "\n",
    "tags_df = tags_df.explode('tags').drop_duplicates()"
   ]
  },
  {
   "cell_type": "code",
   "execution_count": 22,
   "id": "f1174207",
   "metadata": {},
   "outputs": [
    {
     "data": {
      "image/png": "[encoded data removed]",
      "text/plain": [
       "<Figure size 1000x1000 with 1 Axes>"
      ]
     },
     "metadata": {},
     "output_type": "display_data"
    }
   ],
   "source": [
    "#Creating a word cloud\n",
    "\n",
    "import matplotlib.pyplot as plt\n",
    "from wordcloud import WordCloud\n",
    "\n",
    "\n",
    "df_wc = tags_df[(tags_df['tags'] =='tech-machinelearning')]\n",
    "\n",
    "df_wc = df_wc[['title','event_registrants']]\n",
    "df_wc = df_wc.set_index('title').to_dict()['event_registrants']\n",
    "\n",
    "wc = WordCloud(width=800, height=400, max_words=200,).generate_from_frequencies(df_wc)\n",
    "plt.figure(figsize=(10, 10))\n",
    "plt.imshow(wc, interpolation='bilinear')\n",
    "plt.axis('off')\n",
    "plt.show()"
   ]
  },
  {
   "cell_type": "code",
   "execution_count": 23,
   "id": "40beae85",
   "metadata": {},
   "outputs": [],
   "source": [
    "#Saving joined dataset\n",
    "\n",
    "merged.to_csv('../output/cleaned_events.csv',index = False)\n",
    "tags_df.to_csv('../output/cleaned_tags.csv',index = False)"
   ]
  },
  {
   "cell_type": "markdown",
   "id": "521f0ea4",
   "metadata": {},
   "source": [
    "**Verifying first rows of new dataframes**"
   ]
  },
  {
   "cell_type": "code",
   "execution_count": 35,
   "id": "938d6a79",
   "metadata": {},
   "outputs": [],
   "source": [
    "ver1 = pd.read_csv('../sources/cleaned-heroku-events.csv')\n",
    "ver2 = pd.read_csv('../sources/cleaned-event-registries.csv')\n"
   ]
  },
  {
   "cell_type": "code",
   "execution_count": 36,
   "id": "e547832e",
   "metadata": {},
   "outputs": [
    {
     "data": {
      "text/plain": [
       "(194, 26)"
      ]
     },
     "execution_count": 36,
     "metadata": {},
     "output_type": "execute_result"
    }
   ],
   "source": [
    "ver2.shape"
   ]
  },
  {
   "cell_type": "code",
   "execution_count": 34,
   "id": "7d30ac48",
   "metadata": {},
   "outputs": [
    {
     "data": {
      "text/plain": [
       "(267, 5)"
      ]
     },
     "execution_count": 34,
     "metadata": {},
     "output_type": "execute_result"
    }
   ],
   "source": [
    "d2.shape"
   ]
  },
  {
   "cell_type": "markdown",
   "id": "50e1b001",
   "metadata": {},
   "source": [
    "**When joining with form_entries**"
   ]
  },
  {
   "cell_type": "code",
   "execution_count": 26,
   "id": "df1be135",
   "metadata": {},
   "outputs": [],
   "source": [
    "#forms = pd.read_csv('../sources/clean.csv')"
   ]
  },
  {
   "cell_type": "code",
   "execution_count": 27,
   "id": "cdda89fd",
   "metadata": {},
   "outputs": [],
   "source": [
    "#final_df = pd.merge(merged, forms[['email','country','deal_status','won_at']],on='email', how='left')\n"
   ]
  },
  {
   "cell_type": "code",
   "execution_count": 28,
   "id": "84ecf05b",
   "metadata": {},
   "outputs": [],
   "source": [
    "#final_df[['starting_at','won_at']] = final_df[['starting_at','won_at']].apply(pd.to_datetime)"
   ]
  },
  {
   "cell_type": "code",
   "execution_count": 29,
   "id": "c7257b12",
   "metadata": {},
   "outputs": [],
   "source": [
    "#final_df['days_until_deal'] = (final_df['won_at'] - final_df['starting_at']).dt.days\n"
   ]
  },
  {
   "cell_type": "code",
   "execution_count": 30,
   "id": "fecda9be",
   "metadata": {},
   "outputs": [],
   "source": [
    "#final_df[final_df['won_at'] > final_df['starting_at']][['email','deal_status','starting_at','won_at','days_until_deal']].sort_values('days_until_deal')"
   ]
  }
 ],
 "metadata": {
  "kernelspec": {
   "display_name": "Python 3.8.13 64-bit ('shims')",
   "language": "python",
   "name": "python3"
  },
  "language_info": {
   "codemirror_mode": {
    "name": "ipython",
    "version": 3
   },
   "file_extension": ".py",
   "mimetype": "text/x-python",
   "name": "python",
   "nbconvert_exporter": "python",
   "pygments_lexer": "ipython3",
   "version": "3.8.13"
  },
  "vscode": {
   "interpreter": {
    "hash": "9ac03a0a6051494cc606d484d27d20fce22fb7b4d169f583271e11d5ba46a56e"
   }
  }
 },
 "nbformat": 4,
 "nbformat_minor": 5
}
